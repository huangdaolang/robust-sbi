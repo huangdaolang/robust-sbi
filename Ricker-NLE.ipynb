{
 "cells": [
  {
   "cell_type": "code",
   "execution_count": 3,
   "id": "96739651",
   "metadata": {},
   "outputs": [
    {
     "name": "stdout",
     "output_type": "stream",
     "text": [
      "cpu\n"
     ]
    }
   ],
   "source": [
    "device = torch.device(\"cuda:0\" if torch.cuda.is_available() else \"cpu\")\n",
    "print(device)"
   ]
  },
  {
   "cell_type": "code",
   "execution_count": 4,
   "id": "78e524fe",
   "metadata": {},
   "outputs": [],
   "source": [
    "import pickle\n",
    "import io\n",
    "import torch\n",
    "class CPU_Unpickler(pickle.Unpickler):\n",
    "    def find_class(self, module, name):\n",
    "        if module == 'torch.storage' and name == '_load_from_bytes':\n",
    "            return lambda b: torch.load(io.BytesIO(b), map_location='cpu')\n",
    "        else: return super().find_class(module, name)\n",
    "sum_net_normal = torch.load(\"objects/sum_net_normal_{seed}.pkl\".format(seed=3), map_location=device)"
   ]
  },
  {
   "cell_type": "code",
   "execution_count": 2,
   "id": "1781b262",
   "metadata": {},
   "outputs": [],
   "source": [
    "from sbi.inference.snle.snle_a import SNLE_A\n",
    "\n",
    "from sbi.inference.base import *\n",
    "\n",
    "import sbi.utils as utils\n",
    "from sbi.utils.get_nn_models import *\n",
    "from sbi.utils.sbiutils import *\n",
    "from sbi.utils.torchutils import *\n",
    "import torch\n",
    "import numpy as np\n",
    "import tqdm\n",
    "import matplotlib.pyplot as plt\n",
    "from torch import nn\n",
    "import seaborn as sns\n",
    "import random\n",
    "import pickle\n",
    "from pyknos.nflows import flows\n",
    "\n",
    "from simulators.ricker import ricker\n",
    "from networks.summary_nets import RickerSummary\n",
    "\n",
    "from pyknos.nflows import distributions as distributions_\n",
    "from pyknos.nflows import flows, transforms\n",
    "from pyknos.nflows.nn import nets\n",
    "from pyknos.nflows import *"
   ]
  },
  {
   "cell_type": "code",
   "execution_count": 11,
   "id": "f5d3d681",
   "metadata": {},
   "outputs": [],
   "source": [
    "import pickle\n",
    "import io\n",
    "class CPU_Unpickler(pickle.Unpickler):\n",
    "    def find_class(self, module, name):\n",
    "        if module == 'torch.storage' and name == '_load_from_bytes':\n",
    "            return lambda b: torch.load(io.BytesIO(b), map_location='cpu')\n",
    "        else: return super().find_class(module, name)"
   ]
  },
  {
   "cell_type": "code",
   "execution_count": 5,
   "id": "4f13cf7e",
   "metadata": {},
   "outputs": [],
   "source": [
    "def magnitude(obs):\n",
    "    obs_cont = torch.clone(obs).to(obs.device)\n",
    "    for i in range(obs.shape[0]):\n",
    "        obs_cont[i] += torch.abs(torch.randn(100).to(obs.device) * 15)\n",
    "\n",
    "    # obs_cont = torch.tensor(obs_cont)\n",
    "    return obs_cont"
   ]
  },
  {
   "cell_type": "code",
   "execution_count": 21,
   "id": "444d8bf4",
   "metadata": {},
   "outputs": [],
   "source": [
    "sum_net_normal = torch.load(\"objects/sum_net_normal_{seed}.pkl\".format(seed=3), map_location=device)"
   ]
  },
  {
   "cell_type": "code",
   "execution_count": 6,
   "id": "7b6fcace",
   "metadata": {},
   "outputs": [],
   "source": [
    "low = torch.tensor([2., 0.]).to(device)\n",
    "high = torch.tensor([8., 20.]).to(device)\n",
    "prior = torch.distributions.uniform.Uniform(low, high)\n",
    "\n",
    "num_simulations = 2000"
   ]
  },
  {
   "cell_type": "code",
   "execution_count": 7,
   "id": "72009dde",
   "metadata": {},
   "outputs": [],
   "source": [
    "x_summary = np.load(\"x_summary.npy\")\n",
    "theta_combine = np.load(\"theta_combine.npy\")"
   ]
  },
  {
   "cell_type": "code",
   "execution_count": 5,
   "id": "935943f8",
   "metadata": {},
   "outputs": [
    {
     "ename": "NameError",
     "evalue": "name 'sum_net_normal' is not defined",
     "output_type": "error",
     "traceback": [
      "\u001b[0;31m---------------------------------------------------------------------------\u001b[0m",
      "\u001b[0;31mNameError\u001b[0m                                 Traceback (most recent call last)",
      "Input \u001b[0;32mIn [5]\u001b[0m, in \u001b[0;36m<cell line: 7>\u001b[0;34m()\u001b[0m\n\u001b[1;32m      5\u001b[0m theta_combine \u001b[38;5;241m=\u001b[39m torch\u001b[38;5;241m.\u001b[39mcat([theta,theta])\u001b[38;5;241m.\u001b[39mdetach()\u001b[38;5;241m.\u001b[39mnumpy()\n\u001b[1;32m      6\u001b[0m x_combine \u001b[38;5;241m=\u001b[39m torch\u001b[38;5;241m.\u001b[39mcat([x, x_cont])\n\u001b[0;32m----> 7\u001b[0m x_summary \u001b[38;5;241m=\u001b[39m \u001b[43msum_net_normal\u001b[49m(x_combine)[\u001b[38;5;241m1\u001b[39m]\u001b[38;5;241m.\u001b[39mdetach()\u001b[38;5;241m.\u001b[39mnumpy()\n\u001b[1;32m      8\u001b[0m np\u001b[38;5;241m.\u001b[39msave(\u001b[38;5;124m\"\u001b[39m\u001b[38;5;124mx_summary.npy\u001b[39m\u001b[38;5;124m\"\u001b[39m, x_summary)\n\u001b[1;32m      9\u001b[0m np\u001b[38;5;241m.\u001b[39msave(\u001b[38;5;124m\"\u001b[39m\u001b[38;5;124mtheta_combine.npy\u001b[39m\u001b[38;5;124m\"\u001b[39m, theta_combine)\n",
      "\u001b[0;31mNameError\u001b[0m: name 'sum_net_normal' is not defined"
     ]
    }
   ],
   "source": [
    "x = torch.tensor(np.load(\"data/x.npy\")).to(device)\n",
    "theta = torch.tensor(np.load(\"data/theta.npy\")).to(device)\n",
    "x_cont = magnitude(x)\n",
    "\n",
    "theta_combine = torch.cat([theta,theta]).detach().numpy()\n",
    "x_combine = torch.cat([x, x_cont])\n",
    "x_summary = sum_net_normal(x_combine)[1].detach().numpy()\n",
    "np.save(\"x_summary.npy\", x_summary)\n",
    "np.save(\"theta_combine.npy\", theta_combine)"
   ]
  },
  {
   "cell_type": "code",
   "execution_count": 8,
   "id": "304aaba0",
   "metadata": {},
   "outputs": [],
   "source": [
    "theta_combine = torch.tensor(theta_combine)\n",
    "x_summary = torch.tensor(x_summary)"
   ]
  },
  {
   "cell_type": "code",
   "execution_count": 16,
   "id": "32705fd0",
   "metadata": {},
   "outputs": [
    {
     "name": "stdout",
     "output_type": "stream",
     "text": [
      "torch.Size([4000, 2])\n"
     ]
    }
   ],
   "source": [
    "print(theta_combine.shape)"
   ]
  },
  {
   "cell_type": "code",
   "execution_count": 9,
   "id": "d1af3214",
   "metadata": {},
   "outputs": [
    {
     "name": "stdout",
     "output_type": "stream",
     "text": [
      " Neural network successfully converged after 172 epochs."
     ]
    }
   ],
   "source": [
    "# Our distance minimization method\n",
    "theta_combine = theta_combine.to(device)\n",
    "x_summary = x_summary.to(device)\n",
    "inference_robust = sbi.inference.snle.snle_a.SNLE_A(prior=prior, device='cpu')\n",
    "density_estimator_robust = inference_robust.append_simulations(theta_combine, x_summary).train()\n",
    "# posterior_robust = inference_robust.build_posterior(density_estimator_robust)"
   ]
  },
  {
   "cell_type": "code",
   "execution_count": 15,
   "id": "8f2897a3",
   "metadata": {},
   "outputs": [
    {
     "name": "stdout",
     "output_type": "stream",
     "text": [
      "torch.Size([1, 4])\n"
     ]
    },
    {
     "ename": "RuntimeError",
     "evalue": "The size of tensor a (10000) must match the size of tensor b (2) at non-singleton dimension 1",
     "output_type": "error",
     "traceback": [
      "\u001b[0;31m---------------------------------------------------------------------------\u001b[0m",
      "\u001b[0;31mRuntimeError\u001b[0m                              Traceback (most recent call last)",
      "Input \u001b[0;32mIn [15]\u001b[0m, in \u001b[0;36m<cell line: 12>\u001b[0;34m()\u001b[0m\n\u001b[1;32m      8\u001b[0m \u001b[38;5;28mprint\u001b[39m(obs\u001b[38;5;241m.\u001b[39mshape)\n\u001b[1;32m     10\u001b[0m posterior_rob \u001b[38;5;241m=\u001b[39m inference_robust\u001b[38;5;241m.\u001b[39mbuild_posterior(density_estimator_robust)\n\u001b[0;32m---> 12\u001b[0m \u001b[43mposterior_rob\u001b[49m\u001b[38;5;241;43m.\u001b[39;49m\u001b[43msample\u001b[49m\u001b[43m(\u001b[49m\u001b[43m(\u001b[49m\u001b[38;5;241;43m10\u001b[39;49m\u001b[43m,\u001b[49m\u001b[43m)\u001b[49m\u001b[43m,\u001b[49m\u001b[43m \u001b[49m\u001b[43mx\u001b[49m\u001b[38;5;241;43m=\u001b[39;49m\u001b[43mobs\u001b[49m\u001b[43m,\u001b[49m\u001b[43m \u001b[49m\u001b[43mnum_chains\u001b[49m\u001b[38;5;241;43m=\u001b[39;49m\u001b[38;5;241;43m20\u001b[39;49m\u001b[43m,\u001b[49m\u001b[43m \u001b[49m\u001b[43mmethod\u001b[49m\u001b[38;5;241;43m=\u001b[39;49m\u001b[38;5;124;43m\"\u001b[39;49m\u001b[38;5;124;43mslice_np_vectorized\u001b[39;49m\u001b[38;5;124;43m\"\u001b[39;49m\u001b[43m)\u001b[49m\n",
      "File \u001b[0;32m~/anaconda3/lib/python3.9/site-packages/sbi/inference/posteriors/mcmc_posterior.py:275\u001b[0m, in \u001b[0;36mMCMCPosterior.sample\u001b[0;34m(self, sample_shape, x, method, thin, warmup_steps, num_chains, init_strategy, init_strategy_parameters, init_strategy_num_candidates, mcmc_parameters, mcmc_method, sample_with, num_workers, show_progress_bars)\u001b[0m\n\u001b[1;32m    272\u001b[0m init_strategy \u001b[38;5;241m=\u001b[39m _maybe_use_dict_entry(init_strategy, \u001b[38;5;124m\"\u001b[39m\u001b[38;5;124minit_strategy\u001b[39m\u001b[38;5;124m\"\u001b[39m, m_p)\n\u001b[1;32m    273\u001b[0m \u001b[38;5;28mself\u001b[39m\u001b[38;5;241m.\u001b[39mpotential_ \u001b[38;5;241m=\u001b[39m \u001b[38;5;28mself\u001b[39m\u001b[38;5;241m.\u001b[39m_prepare_potential(method)  \u001b[38;5;66;03m# type: ignore\u001b[39;00m\n\u001b[0;32m--> 275\u001b[0m initial_params \u001b[38;5;241m=\u001b[39m \u001b[38;5;28;43mself\u001b[39;49m\u001b[38;5;241;43m.\u001b[39;49m\u001b[43m_get_initial_params\u001b[49m\u001b[43m(\u001b[49m\n\u001b[1;32m    276\u001b[0m \u001b[43m    \u001b[49m\u001b[43minit_strategy\u001b[49m\u001b[43m,\u001b[49m\u001b[43m  \u001b[49m\u001b[38;5;66;43;03m# type: ignore\u001b[39;49;00m\n\u001b[1;32m    277\u001b[0m \u001b[43m    \u001b[49m\u001b[43mnum_chains\u001b[49m\u001b[43m,\u001b[49m\u001b[43m  \u001b[49m\u001b[38;5;66;43;03m# type: ignore\u001b[39;49;00m\n\u001b[1;32m    278\u001b[0m \u001b[43m    \u001b[49m\u001b[43mnum_workers\u001b[49m\u001b[43m,\u001b[49m\n\u001b[1;32m    279\u001b[0m \u001b[43m    \u001b[49m\u001b[43mshow_progress_bars\u001b[49m\u001b[43m,\u001b[49m\n\u001b[1;32m    280\u001b[0m \u001b[43m    \u001b[49m\u001b[38;5;241;43m*\u001b[39;49m\u001b[38;5;241;43m*\u001b[39;49m\u001b[43minit_strategy_parameters\u001b[49m\u001b[43m,\u001b[49m\n\u001b[1;32m    281\u001b[0m \u001b[43m\u001b[49m\u001b[43m)\u001b[49m\n\u001b[1;32m    282\u001b[0m num_samples \u001b[38;5;241m=\u001b[39m torch\u001b[38;5;241m.\u001b[39mSize(sample_shape)\u001b[38;5;241m.\u001b[39mnumel()\n\u001b[1;32m    284\u001b[0m track_gradients \u001b[38;5;241m=\u001b[39m method \u001b[38;5;129;01min\u001b[39;00m (\u001b[38;5;124m\"\u001b[39m\u001b[38;5;124mhmc\u001b[39m\u001b[38;5;124m\"\u001b[39m, \u001b[38;5;124m\"\u001b[39m\u001b[38;5;124mnuts\u001b[39m\u001b[38;5;124m\"\u001b[39m)\n",
      "File \u001b[0;32m~/anaconda3/lib/python3.9/site-packages/sbi/inference/posteriors/mcmc_posterior.py:422\u001b[0m, in \u001b[0;36mMCMCPosterior._get_initial_params\u001b[0;34m(self, init_strategy, num_chains, num_workers, show_progress_bars, **kwargs)\u001b[0m\n\u001b[1;32m    415\u001b[0m         initial_params \u001b[38;5;241m=\u001b[39m torch\u001b[38;5;241m.\u001b[39mcat(\n\u001b[1;32m    416\u001b[0m             Parallel(n_jobs\u001b[38;5;241m=\u001b[39mnum_workers)(\n\u001b[1;32m    417\u001b[0m                 delayed(seeded_init_fn)(seed) \u001b[38;5;28;01mfor\u001b[39;00m seed \u001b[38;5;129;01min\u001b[39;00m seeds\n\u001b[1;32m    418\u001b[0m             )\n\u001b[1;32m    419\u001b[0m         )\n\u001b[1;32m    420\u001b[0m \u001b[38;5;28;01melse\u001b[39;00m:\n\u001b[1;32m    421\u001b[0m     initial_params \u001b[38;5;241m=\u001b[39m torch\u001b[38;5;241m.\u001b[39mcat(\n\u001b[0;32m--> 422\u001b[0m         [init_fn() \u001b[38;5;28;01mfor\u001b[39;00m _ \u001b[38;5;129;01min\u001b[39;00m \u001b[38;5;28mrange\u001b[39m(num_chains)]  \u001b[38;5;66;03m# type: ignore\u001b[39;00m\n\u001b[1;32m    423\u001b[0m     )\n\u001b[1;32m    425\u001b[0m \u001b[38;5;28;01mreturn\u001b[39;00m initial_params\n",
      "File \u001b[0;32m~/anaconda3/lib/python3.9/site-packages/sbi/inference/posteriors/mcmc_posterior.py:422\u001b[0m, in \u001b[0;36m<listcomp>\u001b[0;34m(.0)\u001b[0m\n\u001b[1;32m    415\u001b[0m         initial_params \u001b[38;5;241m=\u001b[39m torch\u001b[38;5;241m.\u001b[39mcat(\n\u001b[1;32m    416\u001b[0m             Parallel(n_jobs\u001b[38;5;241m=\u001b[39mnum_workers)(\n\u001b[1;32m    417\u001b[0m                 delayed(seeded_init_fn)(seed) \u001b[38;5;28;01mfor\u001b[39;00m seed \u001b[38;5;129;01min\u001b[39;00m seeds\n\u001b[1;32m    418\u001b[0m             )\n\u001b[1;32m    419\u001b[0m         )\n\u001b[1;32m    420\u001b[0m \u001b[38;5;28;01melse\u001b[39;00m:\n\u001b[1;32m    421\u001b[0m     initial_params \u001b[38;5;241m=\u001b[39m torch\u001b[38;5;241m.\u001b[39mcat(\n\u001b[0;32m--> 422\u001b[0m         [\u001b[43minit_fn\u001b[49m\u001b[43m(\u001b[49m\u001b[43m)\u001b[49m \u001b[38;5;28;01mfor\u001b[39;00m _ \u001b[38;5;129;01min\u001b[39;00m \u001b[38;5;28mrange\u001b[39m(num_chains)]  \u001b[38;5;66;03m# type: ignore\u001b[39;00m\n\u001b[1;32m    423\u001b[0m     )\n\u001b[1;32m    425\u001b[0m \u001b[38;5;28;01mreturn\u001b[39;00m initial_params\n",
      "File \u001b[0;32m~/anaconda3/lib/python3.9/site-packages/sbi/inference/posteriors/mcmc_posterior.py:355\u001b[0m, in \u001b[0;36mMCMCPosterior._build_mcmc_init_fn.<locals>.<lambda>\u001b[0;34m()\u001b[0m\n\u001b[1;32m    351\u001b[0m     \u001b[38;5;28;01mreturn\u001b[39;00m \u001b[38;5;28;01mlambda\u001b[39;00m: sir_init(\n\u001b[1;32m    352\u001b[0m         proposal, potential_fn, transform\u001b[38;5;241m=\u001b[39mtransform, \u001b[38;5;241m*\u001b[39m\u001b[38;5;241m*\u001b[39mkwargs\n\u001b[1;32m    353\u001b[0m     )\n\u001b[1;32m    354\u001b[0m \u001b[38;5;28;01melif\u001b[39;00m init_strategy \u001b[38;5;241m==\u001b[39m \u001b[38;5;124m\"\u001b[39m\u001b[38;5;124mresample\u001b[39m\u001b[38;5;124m\"\u001b[39m:\n\u001b[0;32m--> 355\u001b[0m     \u001b[38;5;28;01mreturn\u001b[39;00m \u001b[38;5;28;01mlambda\u001b[39;00m: \u001b[43mresample_given_potential_fn\u001b[49m\u001b[43m(\u001b[49m\n\u001b[1;32m    356\u001b[0m \u001b[43m        \u001b[49m\u001b[43mproposal\u001b[49m\u001b[43m,\u001b[49m\u001b[43m \u001b[49m\u001b[43mpotential_fn\u001b[49m\u001b[43m,\u001b[49m\u001b[43m \u001b[49m\u001b[43mtransform\u001b[49m\u001b[38;5;241;43m=\u001b[39;49m\u001b[43mtransform\u001b[49m\u001b[43m,\u001b[49m\u001b[43m \u001b[49m\u001b[38;5;241;43m*\u001b[39;49m\u001b[38;5;241;43m*\u001b[39;49m\u001b[43mkwargs\u001b[49m\n\u001b[1;32m    357\u001b[0m \u001b[43m    \u001b[49m\u001b[43m)\u001b[49m\n\u001b[1;32m    358\u001b[0m \u001b[38;5;28;01melif\u001b[39;00m init_strategy \u001b[38;5;241m==\u001b[39m \u001b[38;5;124m\"\u001b[39m\u001b[38;5;124mlatest_sample\u001b[39m\u001b[38;5;124m\"\u001b[39m:\n\u001b[1;32m    359\u001b[0m     latest_sample \u001b[38;5;241m=\u001b[39m IterateParameters(\u001b[38;5;28mself\u001b[39m\u001b[38;5;241m.\u001b[39m_mcmc_init_params, \u001b[38;5;241m*\u001b[39m\u001b[38;5;241m*\u001b[39mkwargs)\n",
      "File \u001b[0;32m~/anaconda3/lib/python3.9/site-packages/sbi/samplers/mcmc/init_strategy.py:101\u001b[0m, in \u001b[0;36mresample_given_potential_fn\u001b[0;34m(proposal, potential_fn, transform, num_candidate_samples, num_batches, **kwargs)\u001b[0m\n\u001b[1;32m     99\u001b[0m     batch_draws \u001b[38;5;241m=\u001b[39m proposal\u001b[38;5;241m.\u001b[39msample((num_candidate_samples,))\u001b[38;5;241m.\u001b[39mdetach()\n\u001b[1;32m    100\u001b[0m     init_param_candidates\u001b[38;5;241m.\u001b[39mappend(batch_draws)\n\u001b[0;32m--> 101\u001b[0m     log_weights\u001b[38;5;241m.\u001b[39mappend(\u001b[43mpotential_fn\u001b[49m\u001b[43m(\u001b[49m\u001b[43mbatch_draws\u001b[49m\u001b[43m)\u001b[49m\u001b[38;5;241m.\u001b[39mdetach())\n\u001b[1;32m    102\u001b[0m log_weights \u001b[38;5;241m=\u001b[39m torch\u001b[38;5;241m.\u001b[39mcat(log_weights)\n\u001b[1;32m    103\u001b[0m init_param_candidates \u001b[38;5;241m=\u001b[39m torch\u001b[38;5;241m.\u001b[39mcat(init_param_candidates)\n",
      "File \u001b[0;32m~/anaconda3/lib/python3.9/site-packages/sbi/inference/potentials/likelihood_based_potential.py:94\u001b[0m, in \u001b[0;36mLikelihoodBasedPotential.__call__\u001b[0;34m(self, theta, track_gradients)\u001b[0m\n\u001b[1;32m     86\u001b[0m \u001b[38;5;66;03m# Calculate likelihood over trials and in one batch.\u001b[39;00m\n\u001b[1;32m     87\u001b[0m log_likelihood_trial_sum \u001b[38;5;241m=\u001b[39m _log_likelihoods_over_trials(\n\u001b[1;32m     88\u001b[0m     x\u001b[38;5;241m=\u001b[39m\u001b[38;5;28mself\u001b[39m\u001b[38;5;241m.\u001b[39mx_o,\n\u001b[1;32m     89\u001b[0m     theta\u001b[38;5;241m=\u001b[39mtheta\u001b[38;5;241m.\u001b[39mto(\u001b[38;5;28mself\u001b[39m\u001b[38;5;241m.\u001b[39mdevice),\n\u001b[1;32m     90\u001b[0m     net\u001b[38;5;241m=\u001b[39m\u001b[38;5;28mself\u001b[39m\u001b[38;5;241m.\u001b[39mlikelihood_estimator,\n\u001b[1;32m     91\u001b[0m     track_gradients\u001b[38;5;241m=\u001b[39mtrack_gradients,\n\u001b[1;32m     92\u001b[0m )\n\u001b[0;32m---> 94\u001b[0m \u001b[38;5;28;01mreturn\u001b[39;00m \u001b[43mlog_likelihood_trial_sum\u001b[49m\u001b[43m \u001b[49m\u001b[38;5;241;43m+\u001b[39;49m\u001b[43m \u001b[49m\u001b[38;5;28;43mself\u001b[39;49m\u001b[38;5;241;43m.\u001b[39;49m\u001b[43mprior\u001b[49m\u001b[38;5;241;43m.\u001b[39;49m\u001b[43mlog_prob\u001b[49m\u001b[43m(\u001b[49m\u001b[43mtheta\u001b[49m\u001b[43m)\u001b[49m\n",
      "\u001b[0;31mRuntimeError\u001b[0m: The size of tensor a (10000) must match the size of tensor b (2) at non-singleton dimension 1"
     ]
    }
   ],
   "source": [
    "theta_gt = np.array([[4, 10]])\n",
    "\n",
    "obs = ricker(theta_gt).to(device)\n",
    "obs_cont = magnitude(obs)\n",
    "\n",
    "obs = sum_net_normal(obs)[1].reshape(1, 4)\n",
    "obs_cont = sum_net_normal(obs_cont)[1]\n",
    "print(obs.shape)\n",
    "\n",
    "posterior_rob = inference_robust.build_posterior(density_estimator_robust)\n",
    "\n",
    "posterior_rob.sample((10,), x=obs, num_chains=20, method=\"slice_np_vectorized\")"
   ]
  },
  {
   "cell_type": "code",
   "execution_count": 29,
   "id": "3e21f789",
   "metadata": {},
   "outputs": [
    {
     "name": "stdout",
     "output_type": "stream",
     "text": [
      "torch.Size([1, 4])\n"
     ]
    },
    {
     "ename": "RuntimeError",
     "evalue": "The size of tensor a (10000) must match the size of tensor b (2) at non-singleton dimension 1",
     "output_type": "error",
     "traceback": [
      "\u001b[0;31m---------------------------------------------------------------------------\u001b[0m",
      "\u001b[0;31mRuntimeError\u001b[0m                              Traceback (most recent call last)",
      "Input \u001b[0;32mIn [29]\u001b[0m, in \u001b[0;36m<cell line: 11>\u001b[0;34m()\u001b[0m\n\u001b[1;32m      7\u001b[0m obs_cont \u001b[38;5;241m=\u001b[39m sum_net_normal(obs_cont)[\u001b[38;5;241m1\u001b[39m]\n\u001b[1;32m      8\u001b[0m \u001b[38;5;28mprint\u001b[39m(obs\u001b[38;5;241m.\u001b[39mshape)\n\u001b[0;32m---> 11\u001b[0m post_samples_robust \u001b[38;5;241m=\u001b[39m \u001b[43mposterior_robust\u001b[49m\u001b[38;5;241;43m.\u001b[39;49m\u001b[43msample\u001b[49m\u001b[43m(\u001b[49m\u001b[43m(\u001b[49m\u001b[38;5;241;43m10000\u001b[39;49m\u001b[43m,\u001b[49m\u001b[43m)\u001b[49m\u001b[43m,\u001b[49m\u001b[43m \u001b[49m\u001b[43mx\u001b[49m\u001b[38;5;241;43m=\u001b[39;49m\u001b[43mobs\u001b[49m\u001b[38;5;241;43m.\u001b[39;49m\u001b[43mreshape\u001b[49m\u001b[43m(\u001b[49m\u001b[38;5;241;43m4\u001b[39;49m\u001b[43m,\u001b[49m\u001b[43m)\u001b[49m\u001b[43m)\u001b[49m\n\u001b[1;32m     12\u001b[0m post_samples_cont_robust \u001b[38;5;241m=\u001b[39m posterior_robust\u001b[38;5;241m.\u001b[39msample((\u001b[38;5;241m10000\u001b[39m,), x\u001b[38;5;241m=\u001b[39mobs_cont\u001b[38;5;241m.\u001b[39mreshape(\u001b[38;5;241m4\u001b[39m))\n\u001b[1;32m     14\u001b[0m plt\u001b[38;5;241m.\u001b[39msubplot(\u001b[38;5;241m1\u001b[39m, \u001b[38;5;241m2\u001b[39m, \u001b[38;5;241m1\u001b[39m)\n",
      "File \u001b[0;32m~/anaconda3/lib/python3.9/site-packages/sbi/inference/posteriors/mcmc_posterior.py:275\u001b[0m, in \u001b[0;36mMCMCPosterior.sample\u001b[0;34m(self, sample_shape, x, method, thin, warmup_steps, num_chains, init_strategy, init_strategy_parameters, init_strategy_num_candidates, mcmc_parameters, mcmc_method, sample_with, num_workers, show_progress_bars)\u001b[0m\n\u001b[1;32m    272\u001b[0m init_strategy \u001b[38;5;241m=\u001b[39m _maybe_use_dict_entry(init_strategy, \u001b[38;5;124m\"\u001b[39m\u001b[38;5;124minit_strategy\u001b[39m\u001b[38;5;124m\"\u001b[39m, m_p)\n\u001b[1;32m    273\u001b[0m \u001b[38;5;28mself\u001b[39m\u001b[38;5;241m.\u001b[39mpotential_ \u001b[38;5;241m=\u001b[39m \u001b[38;5;28mself\u001b[39m\u001b[38;5;241m.\u001b[39m_prepare_potential(method)  \u001b[38;5;66;03m# type: ignore\u001b[39;00m\n\u001b[0;32m--> 275\u001b[0m initial_params \u001b[38;5;241m=\u001b[39m \u001b[38;5;28;43mself\u001b[39;49m\u001b[38;5;241;43m.\u001b[39;49m\u001b[43m_get_initial_params\u001b[49m\u001b[43m(\u001b[49m\n\u001b[1;32m    276\u001b[0m \u001b[43m    \u001b[49m\u001b[43minit_strategy\u001b[49m\u001b[43m,\u001b[49m\u001b[43m  \u001b[49m\u001b[38;5;66;43;03m# type: ignore\u001b[39;49;00m\n\u001b[1;32m    277\u001b[0m \u001b[43m    \u001b[49m\u001b[43mnum_chains\u001b[49m\u001b[43m,\u001b[49m\u001b[43m  \u001b[49m\u001b[38;5;66;43;03m# type: ignore\u001b[39;49;00m\n\u001b[1;32m    278\u001b[0m \u001b[43m    \u001b[49m\u001b[43mnum_workers\u001b[49m\u001b[43m,\u001b[49m\n\u001b[1;32m    279\u001b[0m \u001b[43m    \u001b[49m\u001b[43mshow_progress_bars\u001b[49m\u001b[43m,\u001b[49m\n\u001b[1;32m    280\u001b[0m \u001b[43m    \u001b[49m\u001b[38;5;241;43m*\u001b[39;49m\u001b[38;5;241;43m*\u001b[39;49m\u001b[43minit_strategy_parameters\u001b[49m\u001b[43m,\u001b[49m\n\u001b[1;32m    281\u001b[0m \u001b[43m\u001b[49m\u001b[43m)\u001b[49m\n\u001b[1;32m    282\u001b[0m num_samples \u001b[38;5;241m=\u001b[39m torch\u001b[38;5;241m.\u001b[39mSize(sample_shape)\u001b[38;5;241m.\u001b[39mnumel()\n\u001b[1;32m    284\u001b[0m track_gradients \u001b[38;5;241m=\u001b[39m method \u001b[38;5;129;01min\u001b[39;00m (\u001b[38;5;124m\"\u001b[39m\u001b[38;5;124mhmc\u001b[39m\u001b[38;5;124m\"\u001b[39m, \u001b[38;5;124m\"\u001b[39m\u001b[38;5;124mnuts\u001b[39m\u001b[38;5;124m\"\u001b[39m)\n",
      "File \u001b[0;32m~/anaconda3/lib/python3.9/site-packages/sbi/inference/posteriors/mcmc_posterior.py:422\u001b[0m, in \u001b[0;36mMCMCPosterior._get_initial_params\u001b[0;34m(self, init_strategy, num_chains, num_workers, show_progress_bars, **kwargs)\u001b[0m\n\u001b[1;32m    415\u001b[0m         initial_params \u001b[38;5;241m=\u001b[39m torch\u001b[38;5;241m.\u001b[39mcat(\n\u001b[1;32m    416\u001b[0m             Parallel(n_jobs\u001b[38;5;241m=\u001b[39mnum_workers)(\n\u001b[1;32m    417\u001b[0m                 delayed(seeded_init_fn)(seed) \u001b[38;5;28;01mfor\u001b[39;00m seed \u001b[38;5;129;01min\u001b[39;00m seeds\n\u001b[1;32m    418\u001b[0m             )\n\u001b[1;32m    419\u001b[0m         )\n\u001b[1;32m    420\u001b[0m \u001b[38;5;28;01melse\u001b[39;00m:\n\u001b[1;32m    421\u001b[0m     initial_params \u001b[38;5;241m=\u001b[39m torch\u001b[38;5;241m.\u001b[39mcat(\n\u001b[0;32m--> 422\u001b[0m         [init_fn() \u001b[38;5;28;01mfor\u001b[39;00m _ \u001b[38;5;129;01min\u001b[39;00m \u001b[38;5;28mrange\u001b[39m(num_chains)]  \u001b[38;5;66;03m# type: ignore\u001b[39;00m\n\u001b[1;32m    423\u001b[0m     )\n\u001b[1;32m    425\u001b[0m \u001b[38;5;28;01mreturn\u001b[39;00m initial_params\n",
      "File \u001b[0;32m~/anaconda3/lib/python3.9/site-packages/sbi/inference/posteriors/mcmc_posterior.py:422\u001b[0m, in \u001b[0;36m<listcomp>\u001b[0;34m(.0)\u001b[0m\n\u001b[1;32m    415\u001b[0m         initial_params \u001b[38;5;241m=\u001b[39m torch\u001b[38;5;241m.\u001b[39mcat(\n\u001b[1;32m    416\u001b[0m             Parallel(n_jobs\u001b[38;5;241m=\u001b[39mnum_workers)(\n\u001b[1;32m    417\u001b[0m                 delayed(seeded_init_fn)(seed) \u001b[38;5;28;01mfor\u001b[39;00m seed \u001b[38;5;129;01min\u001b[39;00m seeds\n\u001b[1;32m    418\u001b[0m             )\n\u001b[1;32m    419\u001b[0m         )\n\u001b[1;32m    420\u001b[0m \u001b[38;5;28;01melse\u001b[39;00m:\n\u001b[1;32m    421\u001b[0m     initial_params \u001b[38;5;241m=\u001b[39m torch\u001b[38;5;241m.\u001b[39mcat(\n\u001b[0;32m--> 422\u001b[0m         [\u001b[43minit_fn\u001b[49m\u001b[43m(\u001b[49m\u001b[43m)\u001b[49m \u001b[38;5;28;01mfor\u001b[39;00m _ \u001b[38;5;129;01min\u001b[39;00m \u001b[38;5;28mrange\u001b[39m(num_chains)]  \u001b[38;5;66;03m# type: ignore\u001b[39;00m\n\u001b[1;32m    423\u001b[0m     )\n\u001b[1;32m    425\u001b[0m \u001b[38;5;28;01mreturn\u001b[39;00m initial_params\n",
      "File \u001b[0;32m~/anaconda3/lib/python3.9/site-packages/sbi/inference/posteriors/mcmc_posterior.py:355\u001b[0m, in \u001b[0;36mMCMCPosterior._build_mcmc_init_fn.<locals>.<lambda>\u001b[0;34m()\u001b[0m\n\u001b[1;32m    351\u001b[0m     \u001b[38;5;28;01mreturn\u001b[39;00m \u001b[38;5;28;01mlambda\u001b[39;00m: sir_init(\n\u001b[1;32m    352\u001b[0m         proposal, potential_fn, transform\u001b[38;5;241m=\u001b[39mtransform, \u001b[38;5;241m*\u001b[39m\u001b[38;5;241m*\u001b[39mkwargs\n\u001b[1;32m    353\u001b[0m     )\n\u001b[1;32m    354\u001b[0m \u001b[38;5;28;01melif\u001b[39;00m init_strategy \u001b[38;5;241m==\u001b[39m \u001b[38;5;124m\"\u001b[39m\u001b[38;5;124mresample\u001b[39m\u001b[38;5;124m\"\u001b[39m:\n\u001b[0;32m--> 355\u001b[0m     \u001b[38;5;28;01mreturn\u001b[39;00m \u001b[38;5;28;01mlambda\u001b[39;00m: \u001b[43mresample_given_potential_fn\u001b[49m\u001b[43m(\u001b[49m\n\u001b[1;32m    356\u001b[0m \u001b[43m        \u001b[49m\u001b[43mproposal\u001b[49m\u001b[43m,\u001b[49m\u001b[43m \u001b[49m\u001b[43mpotential_fn\u001b[49m\u001b[43m,\u001b[49m\u001b[43m \u001b[49m\u001b[43mtransform\u001b[49m\u001b[38;5;241;43m=\u001b[39;49m\u001b[43mtransform\u001b[49m\u001b[43m,\u001b[49m\u001b[43m \u001b[49m\u001b[38;5;241;43m*\u001b[39;49m\u001b[38;5;241;43m*\u001b[39;49m\u001b[43mkwargs\u001b[49m\n\u001b[1;32m    357\u001b[0m \u001b[43m    \u001b[49m\u001b[43m)\u001b[49m\n\u001b[1;32m    358\u001b[0m \u001b[38;5;28;01melif\u001b[39;00m init_strategy \u001b[38;5;241m==\u001b[39m \u001b[38;5;124m\"\u001b[39m\u001b[38;5;124mlatest_sample\u001b[39m\u001b[38;5;124m\"\u001b[39m:\n\u001b[1;32m    359\u001b[0m     latest_sample \u001b[38;5;241m=\u001b[39m IterateParameters(\u001b[38;5;28mself\u001b[39m\u001b[38;5;241m.\u001b[39m_mcmc_init_params, \u001b[38;5;241m*\u001b[39m\u001b[38;5;241m*\u001b[39mkwargs)\n",
      "File \u001b[0;32m~/anaconda3/lib/python3.9/site-packages/sbi/samplers/mcmc/init_strategy.py:101\u001b[0m, in \u001b[0;36mresample_given_potential_fn\u001b[0;34m(proposal, potential_fn, transform, num_candidate_samples, num_batches, **kwargs)\u001b[0m\n\u001b[1;32m     99\u001b[0m     batch_draws \u001b[38;5;241m=\u001b[39m proposal\u001b[38;5;241m.\u001b[39msample((num_candidate_samples,))\u001b[38;5;241m.\u001b[39mdetach()\n\u001b[1;32m    100\u001b[0m     init_param_candidates\u001b[38;5;241m.\u001b[39mappend(batch_draws)\n\u001b[0;32m--> 101\u001b[0m     log_weights\u001b[38;5;241m.\u001b[39mappend(\u001b[43mpotential_fn\u001b[49m\u001b[43m(\u001b[49m\u001b[43mbatch_draws\u001b[49m\u001b[43m)\u001b[49m\u001b[38;5;241m.\u001b[39mdetach())\n\u001b[1;32m    102\u001b[0m log_weights \u001b[38;5;241m=\u001b[39m torch\u001b[38;5;241m.\u001b[39mcat(log_weights)\n\u001b[1;32m    103\u001b[0m init_param_candidates \u001b[38;5;241m=\u001b[39m torch\u001b[38;5;241m.\u001b[39mcat(init_param_candidates)\n",
      "File \u001b[0;32m~/anaconda3/lib/python3.9/site-packages/sbi/inference/potentials/likelihood_based_potential.py:94\u001b[0m, in \u001b[0;36mLikelihoodBasedPotential.__call__\u001b[0;34m(self, theta, track_gradients)\u001b[0m\n\u001b[1;32m     86\u001b[0m \u001b[38;5;66;03m# Calculate likelihood over trials and in one batch.\u001b[39;00m\n\u001b[1;32m     87\u001b[0m log_likelihood_trial_sum \u001b[38;5;241m=\u001b[39m _log_likelihoods_over_trials(\n\u001b[1;32m     88\u001b[0m     x\u001b[38;5;241m=\u001b[39m\u001b[38;5;28mself\u001b[39m\u001b[38;5;241m.\u001b[39mx_o,\n\u001b[1;32m     89\u001b[0m     theta\u001b[38;5;241m=\u001b[39mtheta\u001b[38;5;241m.\u001b[39mto(\u001b[38;5;28mself\u001b[39m\u001b[38;5;241m.\u001b[39mdevice),\n\u001b[1;32m     90\u001b[0m     net\u001b[38;5;241m=\u001b[39m\u001b[38;5;28mself\u001b[39m\u001b[38;5;241m.\u001b[39mlikelihood_estimator,\n\u001b[1;32m     91\u001b[0m     track_gradients\u001b[38;5;241m=\u001b[39mtrack_gradients,\n\u001b[1;32m     92\u001b[0m )\n\u001b[0;32m---> 94\u001b[0m \u001b[38;5;28;01mreturn\u001b[39;00m \u001b[43mlog_likelihood_trial_sum\u001b[49m\u001b[43m \u001b[49m\u001b[38;5;241;43m+\u001b[39;49m\u001b[43m \u001b[49m\u001b[38;5;28;43mself\u001b[39;49m\u001b[38;5;241;43m.\u001b[39;49m\u001b[43mprior\u001b[49m\u001b[38;5;241;43m.\u001b[39;49m\u001b[43mlog_prob\u001b[49m\u001b[43m(\u001b[49m\u001b[43mtheta\u001b[49m\u001b[43m)\u001b[49m\n",
      "\u001b[0;31mRuntimeError\u001b[0m: The size of tensor a (10000) must match the size of tensor b (2) at non-singleton dimension 1"
     ]
    }
   ],
   "source": [
    "theta_gt = np.array([[4, 10]])\n",
    "\n",
    "obs = ricker(theta_gt).to(device)\n",
    "obs_cont = magnitude(obs)\n",
    "\n",
    "obs = sum_net_normal(obs)[1]\n",
    "obs_cont = sum_net_normal(obs_cont)[1]\n",
    "print(obs.shape)\n",
    "\n",
    "\n",
    "post_samples_robust = posterior_robust.sample((10000,), x=obs.reshape(4))\n",
    "post_samples_cont_robust = posterior_robust.sample((10000,), x=obs_cont.reshape(4))\n",
    "\n",
    "plt.subplot(1, 2, 1)\n",
    "sns.distplot(post_samples_robust[:, 0].cpu().numpy(), color='blue', kde=False, norm_hist=True, label=\"clean\")\n",
    "sns.distplot(post_samples_cont_robust[:, 0].cpu().numpy(), color=\"red\", kde=False, norm_hist=True, label=\"misspecified\")\n",
    "\n",
    "plt.xlim(2, 8)\n",
    "plt.ylabel(\"Density\")\n",
    "plt.xlabel(\"theta 1\")\n",
    "plt.title(\"Robust NPE - theta 1\")\n",
    "plt.axvline(x=theta_gt[0][0],ls=\"-\",c=\"black\")\n",
    "plt.legend()\n",
    "\n",
    "plt.subplot(1, 2, 2)\n",
    "sns.distplot(post_samples_robust[:, 1].cpu().numpy(), color='blue', kde=False, norm_hist=True, label=\"clean\")\n",
    "sns.distplot(post_samples_cont_robust[:, 1].cpu().numpy(), color=\"red\", kde=False, norm_hist=True, label=\"misspecified\")\n",
    "\n",
    "plt.xlim(0, 20)\n",
    "plt.xlabel(\"theta 2\")\n",
    "plt.title(\"Robust NPE - theta 2\")\n",
    "plt.axvline(x=theta_gt[0][1],ls=\"-\",c=\"black\")\n",
    "\n",
    "plt.legend()\n",
    "plt.show()"
   ]
  }
 ],
 "metadata": {
  "kernelspec": {
   "display_name": "Python 3 (ipykernel)",
   "language": "python",
   "name": "python3"
  },
  "language_info": {
   "codemirror_mode": {
    "name": "ipython",
    "version": 3
   },
   "file_extension": ".py",
   "mimetype": "text/x-python",
   "name": "python",
   "nbconvert_exporter": "python",
   "pygments_lexer": "ipython3",
   "version": "3.9.12"
  }
 },
 "nbformat": 4,
 "nbformat_minor": 5
}
