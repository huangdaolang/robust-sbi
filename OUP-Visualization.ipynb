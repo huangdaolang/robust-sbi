{
 "cells": [
  {
   "cell_type": "code",
   "execution_count": 14,
   "id": "a015dd3d",
   "metadata": {},
   "outputs": [
    {
     "name": "stdout",
     "output_type": "stream",
     "text": [
      "cpu\n",
      "The autoreload extension is already loaded. To reload it, use:\n",
      "  %reload_ext autoreload\n"
     ]
    }
   ],
   "source": [
    "import numpy as np\n",
    "import copy\n",
    "import matplotlib.pyplot as plt\n",
    "import matplotlib\n",
    "import utils\n",
    "from utils.get_nn_models import *\n",
    "from utils.sbiutils import *\n",
    "from utils.torchutils import *\n",
    "from inference.base import *\n",
    "import torch\n",
    "import pickle\n",
    "import seaborn as sns\n",
    "import io\n",
    "from utils.corruption import *\n",
    "from simulators.oup import oup\n",
    "import utils.metrics as metrics\n",
    "        \n",
    "device = torch.device(\"cuda:0\" if torch.cuda.is_available() else \"cpu\")\n",
    "print(device)\n",
    "\n",
    "%load_ext autoreload\n",
    "%autoreload 2"
   ]
  },
  {
   "cell_type": "code",
   "execution_count": 2,
   "id": "3a8595b5",
   "metadata": {},
   "outputs": [],
   "source": [
    "matplotlib.rcParams.update({\n",
    "    'font.family' : 'serif',\n",
    "    'font.size' : 12.0,\n",
    "    'lines.linewidth' : 2,\n",
    "    'lines.antialiased' : True,\n",
    "    'axes.facecolor': 'fdfdfd',\n",
    "    'axes.edgecolor': '777777',\n",
    "    'axes.linewidth' : 1,\n",
    "    'axes.titlesize' : 'medium',\n",
    "    'axes.labelsize' : 'medium',\n",
    "    'axes.axisbelow' : True,\n",
    "    'xtick.major.size'     : 0,      # major tick size in points\n",
    "    'xtick.minor.size'     : 0,      # minor tick size in points\n",
    "    'xtick.major.pad'      : 6,      # distance to major tick label in points\n",
    "    'xtick.minor.pad'      : 6,      # distance to the minor tick label in points\n",
    "    'xtick.color'          : '333333', # color of the tick labels\n",
    "    'xtick.labelsize'      : 'medium', # fontsize of the tick labels\n",
    "    'xtick.direction'      : 'in',     # direction: in or out\n",
    "    'ytick.major.size'     : 0,      # major tick size in points\n",
    "    'ytick.minor.size'     : 0,      # minor tick size in points\n",
    "    'ytick.major.pad'      : 6,      # distance to major tick label in points\n",
    "    'ytick.minor.pad'      : 6,      # distance to the minor tick label in points\n",
    "    'ytick.color'          : '333333', # color of the tick labels\n",
    "    'ytick.labelsize'      : 'medium', # fontsize of the tick labels\n",
    "    'ytick.direction'      : 'in',     # direction: in or out\n",
    "    'axes.grid' : False,\n",
    "    'grid.alpha' : 0.3,\n",
    "    'grid.linewidth' : 1,\n",
    "    'legend.fancybox' : True,\n",
    "    'legend.fontsize' : 'Small',\n",
    "    'figure.figsize' : (5, 4),\n",
    "    'figure.facecolor' : '1.0',\n",
    "    'figure.edgecolor' : '0.5',\n",
    "    'hatch.linewidth' : 0.1,\n",
    "    'text.usetex' : False\n",
    "    })\n",
    "\n",
    "color_map = {'green': '#009E60', 'orange': '#C04000',\n",
    "              'blue': 'C0', 'black':'#3A3B3C',\n",
    "              'purple': '#843B62', 'red': '#C41E3A'}"
   ]
  },
  {
   "cell_type": "code",
   "execution_count": 3,
   "id": "b173e144",
   "metadata": {},
   "outputs": [],
   "source": [
    "class CPU_Unpickler(pickle.Unpickler):\n",
    "    def find_class(self, module, name):\n",
    "        if module == 'torch.storage' and name == '_load_from_bytes':\n",
    "            return lambda b: torch.load(io.BytesIO(b), map_location='cpu')\n",
    "        else: return super().find_class(module, name)\n",
    "\n",
    "        \n",
    "def load_models(root_name: str, device: torch.device):\n",
    "    sum_net = torch.load(\"{root_name}/sum_net.pkl\".format(root_name=root_name), map_location=device)\n",
    "\n",
    "    density_estimator = torch.load(\"{root_name}/density_estimator.pkl\".format(root_name=root_name), map_location=device)\n",
    "\n",
    "    with open(\"{root_name}/posterior.pkl\".format(root_name=root_name), \"rb\") as handle:\n",
    "        posterior = CPU_Unpickler(handle).load() if device == torch.device('cpu') else pickle.load(handle)\n",
    "    \n",
    "    return sum_net, density_estimator, posterior\n",
    "\n",
    "\n",
    "def read_rnpe(model=\"oup\", var=1.0, degree=0, seed=1, theta=[0.5,1.0]):\n",
    "    file = f\"seed={seed}_degree={degree}_var={var}_theta={theta}_{model}\"\n",
    "\n",
    "    results_dir = f\"objects/rnpe/{model}\"\n",
    "    fn = f\"{results_dir}/{file}.pickle\"\n",
    "\n",
    "    with open(fn, \"rb\") as f:\n",
    "        results = pickle.load(f)\n",
    "\n",
    "    return np.array(results['posterior_samples']['RNPE'])\n",
    "\n",
    "\n",
    "def sample_posteriors(posterior, obs, num):\n",
    "    return posterior.sample((num,), x=obs.reshape(1, 1, 100, 25), show_progress_bars=False)"
   ]
  },
  {
   "cell_type": "code",
   "execution_count": 4,
   "id": "0ffc7658",
   "metadata": {},
   "outputs": [],
   "source": [
    "def RMSE(gt, samples, p=1):\n",
    "    if p == 1:\n",
    "        dist = torch.mean(torch.abs(gt-samples))\n",
    "    elif p == 2:\n",
    "        dist = torch.sqrt(torch.mean((gt-samples)**2))\n",
    "    elif p == 3:\n",
    "        dist = torch.nn.functional.pairwise_distance(gt, samples, p=2).mean()\n",
    "    else:\n",
    "        dist = metrics.MMD_unweighted(samples, gt.reshape(-1, 2), lengthscale=metrics.median_heuristic(samples))\n",
    "    return dist"
   ]
  },
  {
   "cell_type": "code",
   "execution_count": 5,
   "id": "e462cac1",
   "metadata": {},
   "outputs": [
    {
     "name": "stdout",
     "output_type": "stream",
     "text": [
      "x shape torch.Size([1000, 2500])\n",
      "theta shape torch.Size([1000, 2])\n"
     ]
    }
   ],
   "source": [
    "p=2\n",
    "N=100\n",
    "simulator = oup(var=1.0, N=N)\n",
    "theta_gt = torch.tensor([0.5, 1])\n",
    "obs = simulator(theta_gt).to(device)\n",
    "\n",
    "x = torch.tensor(np.load(\"data/oup_x_1000.npy\")).to(device)\n",
    "theta = torch.tensor(np.load(\"data/oup_theta_1000.npy\")).to(device)\n",
    "print(\"x shape\", x.shape)\n",
    "print(\"theta shape\", theta.shape)"
   ]
  },
  {
   "cell_type": "markdown",
   "id": "993f2104",
   "metadata": {},
   "source": [
    "# degree = 0"
   ]
  },
  {
   "cell_type": "code",
   "execution_count": 6,
   "id": "196489a8",
   "metadata": {},
   "outputs": [
    {
     "name": "stdout",
     "output_type": "stream",
     "text": [
      "ours:  0.5502687749266625\n",
      "RNPE:  0.7913627219200134\n",
      "NPE:  0.5164375854283572\n"
     ]
    },
    {
     "data": {
      "image/png": "[encoded data removed]",
      "text/plain": [
       "<Figure size 360x288 with 1 Axes>"
      ]
     },
     "metadata": {},
     "output_type": "display_data"
    }
   ],
   "source": [
    "degree = 0\n",
    "n_corrupted = int(N * degree)\n",
    "n_normal = int(N - n_corrupted)\n",
    "\n",
    "theta_cont = torch.tensor([-0.5, 1])\n",
    "\n",
    "obs_2 = simulator(theta_cont).to(device)\n",
    "obs_cont = torch.cat([obs[:n_normal], obs_2[:n_corrupted]], dim=0).reshape(-1, N, 25)\n",
    "\n",
    "beta_list = [2.0]\n",
    "dist_ours = []\n",
    "dist_npe = []\n",
    "dist_rnpe = []\n",
    "for i in range(1, 51):\n",
    "    for beta in beta_list:\n",
    "        root_name = f\"objects/NPE/oup_new/degree=0.0_var=1.0_mmd_beta={beta}_theta=[0.5, 1.0]_num=1000_N=100/{i}\"\n",
    "        _, _, posterior_robust = load_models(root_name, device)\n",
    "        thetas_robust = sample_posteriors(posterior_robust, obs_cont, 1000)\n",
    "        dist_ours.append(float(RMSE(theta_gt, thetas_robust, p=p)))\n",
    "    \n",
    "    root_name = f\"objects/NPE/oup_new/var=1.0_none_num=1000_N=100_3/{i}\"\n",
    "    _, _, posterior_normal = load_models(root_name, device)\n",
    "    \n",
    "    thetas_npe = sample_posteriors(posterior_normal, obs_cont, 1000)\n",
    "    dist_npe.append(float(RMSE(theta_gt, thetas_npe, p=p)))\n",
    "    \n",
    "    thetas_rnpe = torch.tensor(read_rnpe(model=\"oup\", var=1, degree=degree, seed=i, theta='[0.5,1.0]'))[:1000]\n",
    "    dist_rnpe.append(float(RMSE(theta_gt, thetas_rnpe, p=p)))\n",
    "\n",
    "\n",
    "x =  50 * [\"NPE-RS (ours)\"]  + 50* [\"RNPE\"] + 50 * [\"NPE\"] \n",
    "y = np.array([dist_ours +  dist_rnpe + dist_npe]).reshape(-1)\n",
    "\n",
    "print(\"ours: \", sum(dist_ours)/50)\n",
    "print(\"RNPE: \", sum(dist_rnpe)/50)\n",
    "print(\"NPE: \", sum(dist_npe)/50)\n",
    "\n",
    "my_pal = {\"NPE-RS (ours)\": \"C0\", \"RNPE\": \"green\", \"NPE\":\"orange\"}\n",
    "sns.boxplot(x=x, y=y, width=0.5, showfliers = False, palette=my_pal)\n",
    "# plt.title(\"RMSE between $\\\\theta_{true}$ and posterior of $\\\\theta$\")\n",
    "plt.ylabel(\"RMSE\" if p==2 else \"MAE\")\n",
    "plt.ylim(0, 5)\n",
    "# plt.savefig(\"oup_0_rmse.pdf\", bbox_inches = 'tight', dpi = 300)\n",
    "plt.show()"
   ]
  },
  {
   "cell_type": "markdown",
   "id": "045658b5",
   "metadata": {},
   "source": [
    "# degree = 0.1"
   ]
  },
  {
   "cell_type": "code",
   "execution_count": 8,
   "id": "e1aa6007",
   "metadata": {},
   "outputs": [
    {
     "name": "stdout",
     "output_type": "stream",
     "text": [
      "ours:  0.5682034021615983\n",
      "RNPE:  0.8504803740978241\n",
      "NPE:  1.164612842798233\n"
     ]
    },
    {
     "data": {
      "image/png": "[encoded data removed]",
      "text/plain": [
       "<Figure size 360x288 with 1 Axes>"
      ]
     },
     "metadata": {},
     "output_type": "display_data"
    }
   ],
   "source": [
    "degree = 0.1\n",
    "n_corrupted = int(N * degree)\n",
    "n_normal = int(N - n_corrupted)\n",
    "\n",
    "theta_cont = torch.tensor([-0.5, 1])\n",
    "\n",
    "obs_2 = simulator(theta_cont).to(device)\n",
    "obs_cont = torch.cat([obs[:n_normal], obs_2[:n_corrupted]], dim=0).reshape(-1, N, 25)\n",
    "\n",
    "beta_list = [2.0]\n",
    "dist_ours = []\n",
    "dist_npe = []\n",
    "dist_rnpe = []\n",
    "for i in range(1, 51):\n",
    "    for beta in beta_list:\n",
    "        root_name = f\"objects/NPE/oup_new/degree={degree}_var=1.0_mmd_beta={beta}_theta=[0.5, 1.0]_num=1000_N=100/{i}\"\n",
    "        _, _, posterior_robust = load_models(root_name, device)\n",
    "        thetas_robust = sample_posteriors(posterior_robust, obs_cont, 1000)\n",
    "        dist_ours.append(float(RMSE(theta_gt, thetas_robust, p=p)))\n",
    "    \n",
    "    root_name = f\"objects/NPE/oup_new/var=1.0_none_num=1000_N=100_3/{i}\"\n",
    "    _, _, posterior_normal = load_models(root_name, device)\n",
    "    \n",
    "    thetas_npe = sample_posteriors(posterior_normal, obs_cont, 1000)\n",
    "    dist_npe.append(float(RMSE(theta_gt, thetas_npe, p=p)))\n",
    "    \n",
    "    thetas_rnpe = torch.tensor(read_rnpe(model=\"oup\", var=1, degree=degree, seed=i, theta='[0.5,1.0]'))[:1000]\n",
    "    dist_rnpe.append(float(RMSE(theta_gt, thetas_rnpe, p=p)))\n",
    "\n",
    "\n",
    "x =  50 * [\"NPE-RS (ours)\"]  + 50* [\"RNPE\"] + 50 * [\"NPE\"] \n",
    "y = np.array([dist_ours +  dist_rnpe + dist_npe]).reshape(-1)\n",
    "\n",
    "print(\"ours: \", sum(dist_ours)/50)\n",
    "print(\"RNPE: \", sum(dist_rnpe)/50)\n",
    "print(\"NPE: \", sum(dist_npe)/50)\n",
    "\n",
    "my_pal = {\"NPE-RS (ours)\": \"C0\", \"RNPE\": \"green\", \"NPE\":\"orange\"}\n",
    "sns.boxplot(x=x, y=y, width=0.5, showfliers = False, palette=my_pal)\n",
    "# plt.title(\"RMSE between $\\\\theta_{true}$ and posterior of $\\\\theta$\")\n",
    "plt.ylabel(\"RMSE\" if p==2 else \"MAE\")\n",
    "plt.ylim(0, 5)\n",
    "# plt.savefig(\"oup_0.1_rmse.pdf\", bbox_inches = 'tight', dpi = 300)\n",
    "plt.show()"
   ]
  },
  {
   "cell_type": "markdown",
   "id": "524c29e7",
   "metadata": {},
   "source": [
    "# degree = 0.2"
   ]
  },
  {
   "cell_type": "code",
   "execution_count": 9,
   "id": "1dc29f1f",
   "metadata": {
    "scrolled": false
   },
   "outputs": [
    {
     "name": "stderr",
     "output_type": "stream",
     "text": [
      "WARNING:root:Only 1% posterior samples are within the\n",
      "                        prior support. It may take a long time to collect the\n",
      "                        remaining 818 samples. Consider interrupting\n",
      "                        (Ctrl-C) and switching to `sample_with='mcmc'`.\n"
     ]
    },
    {
     "name": "stdout",
     "output_type": "stream",
     "text": [
      "ours:  0.6296566864848137\n",
      "RNPE:  0.924108372926712\n",
      "NPE:  2.17709749519825\n"
     ]
    },
    {
     "data": {
      "image/png": "[encoded data removed]",
      "text/plain": [
       "<Figure size 360x288 with 1 Axes>"
      ]
     },
     "metadata": {},
     "output_type": "display_data"
    }
   ],
   "source": [
    "degree = 0.2\n",
    "n_corrupted = int(N * degree)\n",
    "n_normal = int(N - n_corrupted)\n",
    "\n",
    "theta_cont = torch.tensor([-0.5, 1])\n",
    "\n",
    "obs_2 = simulator(theta_cont).to(device)\n",
    "obs_cont = torch.cat([obs[:n_normal], obs_2[:n_corrupted]], dim=0).reshape(-1, N, 25)\n",
    "\n",
    "beta_list = [2.0]\n",
    "dist_ours = []\n",
    "dist_npe = []\n",
    "dist_rnpe = []\n",
    "for i in range(1, 51):\n",
    "    for beta in beta_list:\n",
    "        root_name = f\"objects/NPE/oup_new/degree={degree}_var=1.0_mmd_beta={beta}_theta=[0.5, 1.0]_num=1000_N=100/{i}\"\n",
    "        _, _, posterior_robust = load_models(root_name, device)\n",
    "        thetas_robust = sample_posteriors(posterior_robust, obs_cont, 1000)\n",
    "        dist_ours.append(float(RMSE(theta_gt, thetas_robust, p=p)))\n",
    "    \n",
    "    root_name = f\"objects/NPE/oup_new/var=1.0_none_num=1000_N=100_3/{i}\"\n",
    "    _, _, posterior_normal = load_models(root_name, device)\n",
    "    \n",
    "    thetas_npe = sample_posteriors(posterior_normal, obs_cont, 1000)\n",
    "    dist_npe.append(float(RMSE(theta_gt, thetas_npe, p=p)))\n",
    "    \n",
    "    thetas_rnpe = torch.tensor(read_rnpe(model=\"oup\", var=1, degree=degree, seed=i, theta='[0.5,1.0]'))[:1000]\n",
    "    dist_rnpe.append(float(RMSE(theta_gt, thetas_rnpe, p=p)))\n",
    "\n",
    "\n",
    "x =  50 * [\"NPE-RS (ours)\"]  + 50* [\"RNPE\"] + 50 * [\"NPE\"] \n",
    "y = np.array([dist_ours +  dist_rnpe + dist_npe]).reshape(-1)\n",
    "\n",
    "print(\"ours: \", sum(dist_ours)/50)\n",
    "print(\"RNPE: \", sum(dist_rnpe)/50)\n",
    "print(\"NPE: \", sum(dist_npe)/50)\n",
    "\n",
    "my_pal = {\"NPE-RS (ours)\": \"C0\", \"RNPE\": \"green\", \"NPE\":\"orange\"}\n",
    "sns.boxplot(x=x, y=y, width=0.5, showfliers = False, palette=my_pal)\n",
    "# plt.title(\"RMSE between $\\\\theta_{true}$ and posterior of $\\\\theta$\")\n",
    "plt.ylabel(\"RMSE\" if p==2 else \"MAE\")\n",
    "plt.ylim(0, 5)\n",
    "# plt.savefig(\"oup_0.2_rmse.pdf\", bbox_inches = 'tight', dpi = 300)\n",
    "plt.show()"
   ]
  },
  {
   "cell_type": "code",
   "execution_count": 8,
   "id": "53d39193",
   "metadata": {},
   "outputs": [],
   "source": [
    "def temporalMomentsGeneral(Y, K=3, B=4e9):\n",
    "    N, Ns = Y.shape\n",
    "#     delta_f = B / (Ns-1)\n",
    "#     t_max = 1 / delta_f\n",
    "    tau = np.linspace(0, 100, Ns)\n",
    "    out = np.zeros((N, K))\n",
    "    Y = Y.detach().numpy()\n",
    "    for k in range(K):\n",
    "        for i in range(N):\n",
    "            out[i, k] = np.trapz(tau**(k) * Y[i], tau) + 1e-8\n",
    "    return np.log(out)"
   ]
  },
  {
   "cell_type": "code",
   "execution_count": 36,
   "id": "90932865",
   "metadata": {},
   "outputs": [
    {
     "data": {
      "application/vnd.jupyter.widget-view+json": {
       "model_id": "9f81543a0c2f4bf2b39fd481566f1790",
       "version_major": 2,
       "version_minor": 0
      },
      "text/plain": [
       "Drawing 1000 posterior samples:   0%|          | 0/1000 [00:00<?, ?it/s]"
      ]
     },
     "metadata": {},
     "output_type": "display_data"
    },
    {
     "data": {
      "application/vnd.jupyter.widget-view+json": {
       "model_id": "1dc82f2fd2974380a933b64593416104",
       "version_major": 2,
       "version_minor": 0
      },
      "text/plain": [
       "Drawing 1000 posterior samples:   0%|          | 0/1000 [00:00<?, ?it/s]"
      ]
     },
     "metadata": {},
     "output_type": "display_data"
    }
   ],
   "source": [
    "simulator = oup(N=1)\n",
    "\n",
    "root_name = \"objects/NPE/oup_new/degree=0.2_var=1.0_mmd_beta=2.0_theta=[0.5, 1.0]_num=1000_N=100/1\"\n",
    "sum_net_robust, density_estimator_robust, posterior_robust = load_models(root_name, device)\n",
    "\n",
    "root_name = \"objects/NPE/oup_new/var=1.0_none_num=1000_N=100_3/2\"\n",
    "sum_net_normal, density_estimator_normal, posterior_normal = load_models(root_name, device)\n",
    "\n",
    "obs_cont = torch.tensor(np.load(\"data/oup_obs_2.npy\"))\n",
    "obs_stat = torch.tensor(temporalMomentsGeneral(obs_cont.reshape(100, 25)))\n",
    "\n",
    "nb_samples = 1000\n",
    "post_samples_normal_cont = posterior_normal.sample((nb_samples,), x=obs_cont.reshape(1, 1, 100, 25))\n",
    "post_samples_robust_cont = posterior_robust.sample((nb_samples,), x=obs_cont.reshape(1, 1, 100, 25))\n"
   ]
  },
  {
   "cell_type": "code",
   "execution_count": 37,
   "id": "fdaee760",
   "metadata": {},
   "outputs": [],
   "source": [
    "predictive_data_normal = torch.zeros(nb_samples, 25)\n",
    "for i in range(nb_samples):\n",
    "    predictive_data_normal[i] = simulator(post_samples_normal_cont[i])[0]\n",
    "pred_stat_normal = torch.tensor(temporalMomentsGeneral(predictive_data_normal))\n",
    "\n",
    "predictive_data_robust = torch.zeros(nb_samples, 25)\n",
    "for i in range(nb_samples):\n",
    "    predictive_data_robust[i] = simulator(post_samples_robust_cont[i])[0]\n",
    "pred_stat_robust = torch.tensor(temporalMomentsGeneral(predictive_data_robust))"
   ]
  },
  {
   "cell_type": "code",
   "execution_count": 38,
   "id": "2d0cff88",
   "metadata": {},
   "outputs": [
    {
     "name": "stdout",
     "output_type": "stream",
     "text": [
      "MMD with NPE:  1.3547787308004702\n"
     ]
    }
   ],
   "source": [
    "print(\"MMD with NPE: \", float(metrics.MMD_unweighted(pred_stat_normal, obs_stat, \n",
    "                             lengthscale=metrics.median_heuristic(obs_stat))))"
   ]
  },
  {
   "cell_type": "code",
   "execution_count": 39,
   "id": "07726f44",
   "metadata": {},
   "outputs": [
    {
     "name": "stdout",
     "output_type": "stream",
     "text": [
      "MMD with NPE-RS:  0.34144467002280493\n"
     ]
    }
   ],
   "source": [
    "print(\"MMD with NPE-RS: \", float(metrics.MMD_unweighted(pred_stat_robust, obs_stat, \n",
    "                             lengthscale=metrics.median_heuristic(obs_stat))))"
   ]
  },
  {
   "cell_type": "code",
   "execution_count": 40,
   "id": "cb5a5b49",
   "metadata": {},
   "outputs": [
    {
     "name": "stderr",
     "output_type": "stream",
     "text": [
      "WARNING:root:Only 1% posterior samples are within the\n",
      "                        prior support. It may take a long time to collect the\n",
      "                        remaining 936 samples. Consider interrupting\n",
      "                        (Ctrl-C) and switching to `sample_with='mcmc'`.\n"
     ]
    }
   ],
   "source": [
    "nb_samples = 1000\n",
    "\n",
    "mmd_normal = 0.\n",
    "mmd_robust = 0.\n",
    "n_sim = 30\n",
    "for i in range(1, n_sim):\n",
    "    root_name = f\"objects/NPE/oup_new/degree=0.2_var=1.0_mmd_beta=2.0_theta=[0.5, 1.0]_num=1000_N=100/{i}\"\n",
    "    _, _, posterior_npe = load_models(root_name, device)\n",
    "    post_samples_npe = sample_posteriors(posterior_npe, obs_cont, nb_samples)\n",
    "\n",
    "    root_name = f\"objects/NPE/oup_new/var=1.0_none_num=1000_N=100_3/{i}\"\n",
    "    _, _, posterior_robust = load_models(root_name, device)\n",
    "    post_samples_robust = sample_posteriors(posterior_robust, obs_cont, nb_samples)\n",
    "    \n",
    "    predictive_data_normal = torch.zeros(nb_samples, 25)\n",
    "    for j in range(nb_samples):\n",
    "        predictive_data_normal[j] = simulator(post_samples_normal_cont[j])[0]\n",
    "    pred_stat_normal = torch.tensor(temporalMomentsGeneral(predictive_data_normal))\n",
    "    \n",
    "    predictive_data_robust = torch.zeros(nb_samples, 25)\n",
    "    for j in range(nb_samples):\n",
    "        predictive_data_robust[j] = simulator(post_samples_robust_cont[j])[0]\n",
    "    pred_stat_robust = torch.tensor(temporalMomentsGeneral(predictive_data_robust))\n",
    "    \n",
    "    mmd_normal += float(metrics.MMD_unweighted(pred_stat_normal, obs_stat, \n",
    "                             lengthscale=metrics.median_heuristic(obs_stat)))\n",
    "    \n",
    "    mmd_robust += float(metrics.MMD_unweighted(pred_stat_robust, obs_stat, \n",
    "                             lengthscale=metrics.median_heuristic(obs_stat)))"
   ]
  },
  {
   "cell_type": "code",
   "execution_count": 41,
   "id": "e8da7e06",
   "metadata": {},
   "outputs": [
    {
     "name": "stdout",
     "output_type": "stream",
     "text": [
      "mmd normal: 1.3099638008399508\n",
      "mmd robust: 0.330066273438366\n"
     ]
    }
   ],
   "source": [
    "print(f\"mmd normal: {mmd_normal/n_sim}\")\n",
    "print(f\"mmd robust: {mmd_robust/n_sim}\")"
   ]
  }
 ],
 "metadata": {
  "kernelspec": {
   "display_name": "Python 3 (ipykernel)",
   "language": "python",
   "name": "python3"
  },
  "language_info": {
   "codemirror_mode": {
    "name": "ipython",
    "version": 3
   },
   "file_extension": ".py",
   "mimetype": "text/x-python",
   "name": "python",
   "nbconvert_exporter": "python",
   "pygments_lexer": "ipython3",
   "version": "3.9.12"
  }
 },
 "nbformat": 4,
 "nbformat_minor": 5
}
