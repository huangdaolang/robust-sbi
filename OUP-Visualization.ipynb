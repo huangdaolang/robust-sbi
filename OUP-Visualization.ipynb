{
 "cells": [
  {
   "cell_type": "code",
   "execution_count": 1,
   "id": "a015dd3d",
   "metadata": {},
   "outputs": [
    {
     "name": "stdout",
     "output_type": "stream",
     "text": [
      "cpu\n"
     ]
    }
   ],
   "source": [
    "import numpy as np\n",
    "import copy\n",
    "import matplotlib.pyplot as plt\n",
    "import matplotlib\n",
    "import utils\n",
    "from utils.get_nn_models import *\n",
    "from utils.sbiutils import *\n",
    "from utils.torchutils import *\n",
    "from inference.base import *\n",
    "import torch\n",
    "import pickle\n",
    "import seaborn as sns\n",
    "import io\n",
    "from utils.corruption import *\n",
    "from simulators.oup import oup\n",
    "        \n",
    "device = torch.device(\"cuda:0\" if torch.cuda.is_available() else \"cpu\")\n",
    "print(device)\n",
    "\n",
    "%load_ext autoreload\n",
    "%autoreload 2"
   ]
  },
  {
   "cell_type": "code",
   "execution_count": 2,
   "id": "3a8595b5",
   "metadata": {},
   "outputs": [],
   "source": [
    "matplotlib.rcParams.update({\n",
    "    'font.family' : 'serif',\n",
    "    'font.size' : 12.0,\n",
    "    'lines.linewidth' : 2,\n",
    "    'lines.antialiased' : True,\n",
    "    'axes.facecolor': 'fdfdfd',\n",
    "    'axes.edgecolor': '777777',\n",
    "    'axes.linewidth' : 1,\n",
    "    'axes.titlesize' : 'medium',\n",
    "    'axes.labelsize' : 'medium',\n",
    "    'axes.axisbelow' : True,\n",
    "    'xtick.major.size'     : 0,      # major tick size in points\n",
    "    'xtick.minor.size'     : 0,      # minor tick size in points\n",
    "    'xtick.major.pad'      : 6,      # distance to major tick label in points\n",
    "    'xtick.minor.pad'      : 6,      # distance to the minor tick label in points\n",
    "    'xtick.color'          : '333333', # color of the tick labels\n",
    "    'xtick.labelsize'      : 'medium', # fontsize of the tick labels\n",
    "    'xtick.direction'      : 'in',     # direction: in or out\n",
    "    'ytick.major.size'     : 0,      # major tick size in points\n",
    "    'ytick.minor.size'     : 0,      # minor tick size in points\n",
    "    'ytick.major.pad'      : 6,      # distance to major tick label in points\n",
    "    'ytick.minor.pad'      : 6,      # distance to the minor tick label in points\n",
    "    'ytick.color'          : '333333', # color of the tick labels\n",
    "    'ytick.labelsize'      : 'medium', # fontsize of the tick labels\n",
    "    'ytick.direction'      : 'in',     # direction: in or out\n",
    "    'axes.grid' : False,\n",
    "    'grid.alpha' : 0.3,\n",
    "    'grid.linewidth' : 1,\n",
    "    'legend.fancybox' : True,\n",
    "    'legend.fontsize' : 'Small',\n",
    "    'figure.figsize' : (5, 4),\n",
    "    'figure.facecolor' : '1.0',\n",
    "    'figure.edgecolor' : '0.5',\n",
    "    'hatch.linewidth' : 0.1,\n",
    "    'text.usetex' : False\n",
    "    })\n",
    "\n",
    "color_map = {'green': '#009E60', 'orange': '#C04000',\n",
    "              'blue': 'C0', 'black':'#3A3B3C',\n",
    "              'purple': '#843B62', 'red': '#C41E3A'}"
   ]
  },
  {
   "cell_type": "code",
   "execution_count": 3,
   "id": "b173e144",
   "metadata": {},
   "outputs": [],
   "source": [
    "class CPU_Unpickler(pickle.Unpickler):\n",
    "    def find_class(self, module, name):\n",
    "        if module == 'torch.storage' and name == '_load_from_bytes':\n",
    "            return lambda b: torch.load(io.BytesIO(b), map_location='cpu')\n",
    "        else: return super().find_class(module, name)\n",
    "\n",
    "        \n",
    "def load_models(root_name: str, device: torch.device):\n",
    "    sum_net = torch.load(\"{root_name}/sum_net.pkl\".format(root_name=root_name), map_location=device)\n",
    "\n",
    "    density_estimator = torch.load(\"{root_name}/density_estimator.pkl\".format(root_name=root_name), map_location=device)\n",
    "\n",
    "    with open(\"{root_name}/posterior.pkl\".format(root_name=root_name), \"rb\") as handle:\n",
    "        posterior = CPU_Unpickler(handle).load() if device == torch.device('cpu') else pickle.load(handle)\n",
    "    \n",
    "    return sum_net, density_estimator, posterior\n",
    "\n",
    "\n",
    "def read_rnpe(model=\"oup\", var=1.0, degree=0, seed=1, theta=[0.5,1.0]):\n",
    "    file = f\"seed={seed}_degree={degree}_var={var}_theta={theta}_{model}\"\n",
    "\n",
    "    results_dir = f\"objects/rnpe/{model}\"\n",
    "    fn = f\"{results_dir}/{file}.pickle\"\n",
    "\n",
    "    with open(fn, \"rb\") as f:\n",
    "        results = pickle.load(f)\n",
    "\n",
    "    return np.array(results['posterior_samples']['RNPE'])\n",
    "\n",
    "\n",
    "def sample_posteriors(posterior, obs, num):\n",
    "    return posterior.sample((num,), x=obs.reshape(1, 1, 100, 25), show_progress_bars=False)"
   ]
  },
  {
   "cell_type": "code",
   "execution_count": 4,
   "id": "0ffc7658",
   "metadata": {},
   "outputs": [],
   "source": [
    "def RMSE(gt, samples, p=1):\n",
    "    if p == 1:\n",
    "        dist = torch.mean(torch.abs(gt-samples))\n",
    "    elif p == 2:\n",
    "        dist = torch.sqrt(torch.mean((gt-samples)**2))\n",
    "    elif p == 3:\n",
    "        dist = torch.nn.functional.pairwise_distance(gt, samples, p=2).mean()\n",
    "    else:\n",
    "        dist = metrics.MMD_unweighted(samples, gt.reshape(-1, 2), lengthscale=metrics.median_heuristic(samples))\n",
    "    return dist"
   ]
  },
  {
   "cell_type": "code",
   "execution_count": 9,
   "id": "e462cac1",
   "metadata": {},
   "outputs": [
    {
     "name": "stdout",
     "output_type": "stream",
     "text": [
      "x shape torch.Size([1000, 2500])\n",
      "theta shape torch.Size([1000, 2])\n"
     ]
    }
   ],
   "source": [
    "p=2\n",
    "N=100\n",
    "simulator = oup(var=1.0, N=N)\n",
    "theta_gt = torch.tensor([0.5, 1])\n",
    "obs = simulator(theta_gt).to(device)\n",
    "\n",
    "x = torch.tensor(np.load(\"data/oup_x_1000.npy\")).to(device)\n",
    "theta = torch.tensor(np.load(\"data/oup_theta_1000.npy\")).to(device)\n",
    "print(\"x shape\", x.shape)\n",
    "print(\"theta shape\", theta.shape)"
   ]
  },
  {
   "cell_type": "markdown",
   "id": "993f2104",
   "metadata": {},
   "source": [
    "# degree = 0"
   ]
  },
  {
   "cell_type": "code",
   "execution_count": 10,
   "id": "196489a8",
   "metadata": {},
   "outputs": [
    {
     "name": "stdout",
     "output_type": "stream",
     "text": [
      "ours:  0.4906148310750723\n",
      "RNPE:  0.7701074123382569\n",
      "NPE:  0.5305132031440735\n"
     ]
    },
    {
     "data": {
      "image/png": "[encoded data removed]",
      "text/plain": [
       "<Figure size 360x288 with 1 Axes>"
      ]
     },
     "metadata": {},
     "output_type": "display_data"
    }
   ],
   "source": [
    "degree = 0\n",
    "n_corrupted = int(N * degree)\n",
    "n_normal = int(N - n_corrupted)\n",
    "\n",
    "theta_cont = torch.tensor([-0.5, 1])\n",
    "\n",
    "obs_2 = simulator(theta_cont).to(device)\n",
    "obs_cont = torch.cat([obs[:n_normal], obs_2[:n_corrupted]], dim=0).reshape(-1, N, 25)\n",
    "\n",
    "beta_list = [2.0]\n",
    "dist_ours = []\n",
    "dist_npe = []\n",
    "dist_rnpe = []\n",
    "for i in range(1, 31):\n",
    "    for beta in beta_list:\n",
    "        root_name = f\"objects/oup_new/degree=0.0_var=1.0_mmd_beta={beta}_theta=[0.5, 1.0]_num=1000_N=100/{i}\"\n",
    "        _, _, posterior_robust = load_models(root_name, device)\n",
    "        thetas_robust = sample_posteriors(posterior_robust, obs_cont, 1000)\n",
    "        dist_ours.append(float(RMSE(theta_gt, thetas_robust, p=p)))\n",
    "    \n",
    "    root_name = f\"objects/oup_new/var=1.0_none_num=1000_N=100_2/{i}\"\n",
    "    _, _, posterior_normal = load_models(root_name, device)\n",
    "    \n",
    "    thetas_npe = sample_posteriors(posterior_normal, obs_cont, 1000)\n",
    "    dist_npe.append(float(RMSE(theta_gt, thetas_npe, p=p)))\n",
    "    \n",
    "    thetas_rnpe = torch.tensor(read_rnpe(model=\"oup\", var=1, degree=degree, seed=i, theta='[0.5,1.0]'))[:1000]\n",
    "    dist_rnpe.append(float(RMSE(theta_gt, thetas_rnpe, p=p)))\n",
    "\n",
    "\n",
    "x =  30 * [\"NPE-RS (ours)\"]  + 30* [\"RNPE\"] + 30 * [\"NPE\"] \n",
    "y = np.array([dist_ours +  dist_rnpe + dist_npe]).reshape(-1)\n",
    "\n",
    "print(\"ours: \", sum(dist_ours)/30)\n",
    "print(\"RNPE: \", sum(dist_rnpe)/30)\n",
    "print(\"NPE: \", sum(dist_npe)/30)\n",
    "\n",
    "my_pal = {\"NPE-RS (ours)\": \"C0\", \"RNPE\": \"green\", \"NPE\":\"orange\"}\n",
    "sns.boxplot(x=x, y=y, width=0.5, showfliers = False, palette=my_pal)\n",
    "# plt.title(\"RMSE between $\\\\theta_{true}$ and posterior of $\\\\theta$\")\n",
    "plt.ylabel(\"RMSE\" if p==2 else \"MAE\")\n",
    "plt.ylim(0, 5)\n",
    "plt.savefig(\"oup_0_rmse.pdf\", bbox_inches = 'tight', dpi = 300)\n",
    "plt.show()"
   ]
  },
  {
   "cell_type": "markdown",
   "id": "045658b5",
   "metadata": {},
   "source": [
    "# degree = 0.1"
   ]
  },
  {
   "cell_type": "code",
   "execution_count": 11,
   "id": "e1aa6007",
   "metadata": {},
   "outputs": [
    {
     "name": "stdout",
     "output_type": "stream",
     "text": [
      "ours:  0.6004185080528259\n",
      "RNPE:  0.8537267049153646\n",
      "NPE:  1.2736432204643886\n"
     ]
    },
    {
     "data": {
      "image/png": "[encoded data removed]",
      "text/plain": [
       "<Figure size 360x288 with 1 Axes>"
      ]
     },
     "metadata": {},
     "output_type": "display_data"
    }
   ],
   "source": [
    "degree = 0.1\n",
    "n_corrupted = int(N * degree)\n",
    "n_normal = int(N - n_corrupted)\n",
    "\n",
    "theta_cont = torch.tensor([-0.5, 1])\n",
    "\n",
    "obs_2 = simulator(theta_cont).to(device)\n",
    "obs_cont = torch.cat([obs[:n_normal], obs_2[:n_corrupted]], dim=0).reshape(-1, N, 25)\n",
    "\n",
    "beta_list = [2.0]\n",
    "dist_ours = []\n",
    "dist_npe = []\n",
    "dist_rnpe = []\n",
    "for i in range(1, 31):\n",
    "    for beta in beta_list:\n",
    "        root_name = f\"objects/oup_new/degree={degree}_var=1.0_mmd_beta={beta}_theta=[0.5, 1.0]_num=1000_N=100/{i}\"\n",
    "        _, _, posterior_robust = load_models(root_name, device)\n",
    "        thetas_robust = sample_posteriors(posterior_robust, obs_cont, 1000)\n",
    "        dist_ours.append(float(RMSE(theta_gt, thetas_robust, p=p)))\n",
    "    \n",
    "    root_name = f\"objects/oup_new/var=1.0_none_num=1000_N=100_2/{i}\"\n",
    "    _, _, posterior_normal = load_models(root_name, device)\n",
    "    \n",
    "    thetas_npe = sample_posteriors(posterior_normal, obs_cont, 1000)\n",
    "    dist_npe.append(float(RMSE(theta_gt, thetas_npe, p=p)))\n",
    "    \n",
    "    thetas_rnpe = torch.tensor(read_rnpe(model=\"oup\", var=1, degree=degree, seed=i, theta='[0.5,1.0]'))[:1000]\n",
    "    dist_rnpe.append(float(RMSE(theta_gt, thetas_rnpe, p=p)))\n",
    "\n",
    "\n",
    "x =  30 * [\"NPE-RS (ours)\"]  + 30* [\"RNPE\"] + 30 * [\"NPE\"] \n",
    "y = np.array([dist_ours +  dist_rnpe + dist_npe]).reshape(-1)\n",
    "\n",
    "print(\"ours: \", sum(dist_ours)/30)\n",
    "print(\"RNPE: \", sum(dist_rnpe)/30)\n",
    "print(\"NPE: \", sum(dist_npe)/30)\n",
    "\n",
    "my_pal = {\"NPE-RS (ours)\": \"C0\", \"RNPE\": \"green\", \"NPE\":\"orange\"}\n",
    "sns.boxplot(x=x, y=y, width=0.5, showfliers = False, palette=my_pal)\n",
    "# plt.title(\"RMSE between $\\\\theta_{true}$ and posterior of $\\\\theta$\")\n",
    "plt.ylabel(\"RMSE\" if p==2 else \"MAE\")\n",
    "plt.ylim(0, 5)\n",
    "plt.savefig(\"oup_0.1_rmse.pdf\", bbox_inches = 'tight', dpi = 300)\n",
    "plt.show()"
   ]
  },
  {
   "cell_type": "markdown",
   "id": "524c29e7",
   "metadata": {},
   "source": [
    "# degree = 0.2"
   ]
  },
  {
   "cell_type": "code",
   "execution_count": 12,
   "id": "1dc29f1f",
   "metadata": {},
   "outputs": [
    {
     "name": "stderr",
     "output_type": "stream",
     "text": [
      "WARNING:root:Only 1% posterior samples are within the\n",
      "                        prior support. It may take a long time to collect the\n",
      "                        remaining 923 samples. Consider interrupting\n",
      "                        (Ctrl-C) and switching to `sample_with='mcmc'`.\n"
     ]
    },
    {
     "name": "stdout",
     "output_type": "stream",
     "text": [
      "ours:  0.5798994769652684\n",
      "RNPE:  0.9693045854568482\n",
      "NPE:  2.0552092413107554\n"
     ]
    },
    {
     "data": {
      "image/png": "[encoded data removed]",
      "text/plain": [
       "<Figure size 360x288 with 1 Axes>"
      ]
     },
     "metadata": {},
     "output_type": "display_data"
    }
   ],
   "source": [
    "degree = 0.2\n",
    "n_corrupted = int(N * degree)\n",
    "n_normal = int(N - n_corrupted)\n",
    "\n",
    "theta_cont = torch.tensor([-0.5, 1])\n",
    "\n",
    "obs_2 = simulator(theta_cont).to(device)\n",
    "obs_cont = torch.cat([obs[:n_normal], obs_2[:n_corrupted]], dim=0).reshape(-1, N, 25)\n",
    "\n",
    "beta_list = [2.0]\n",
    "dist_ours = []\n",
    "dist_npe = []\n",
    "dist_rnpe = []\n",
    "for i in range(1, 31):\n",
    "    for beta in beta_list:\n",
    "        root_name = f\"objects/oup_new/degree={degree}_var=1.0_mmd_beta={beta}_theta=[0.5, 1.0]_num=1000_N=100/{i}\"\n",
    "        _, _, posterior_robust = load_models(root_name, device)\n",
    "        thetas_robust = sample_posteriors(posterior_robust, obs_cont, 1000)\n",
    "        dist_ours.append(float(RMSE(theta_gt, thetas_robust, p=p)))\n",
    "    \n",
    "    root_name = f\"objects/oup_new/var=1.0_none_num=1000_N=100_2/{i}\"\n",
    "    _, _, posterior_normal = load_models(root_name, device)\n",
    "    \n",
    "    thetas_npe = sample_posteriors(posterior_normal, obs_cont, 1000)\n",
    "    dist_npe.append(float(RMSE(theta_gt, thetas_npe, p=p)))\n",
    "    \n",
    "    thetas_rnpe = torch.tensor(read_rnpe(model=\"oup\", var=1, degree=degree, seed=i, theta='[0.5,1.0]'))[:1000]\n",
    "    dist_rnpe.append(float(RMSE(theta_gt, thetas_rnpe, p=p)))\n",
    "\n",
    "\n",
    "x =  30 * [\"NPE-RS (ours)\"]  + 30* [\"RNPE\"] + 30 * [\"NPE\"] \n",
    "y = np.array([dist_ours +  dist_rnpe + dist_npe]).reshape(-1)\n",
    "\n",
    "print(\"ours: \", sum(dist_ours)/30)\n",
    "print(\"RNPE: \", sum(dist_rnpe)/30)\n",
    "print(\"NPE: \", sum(dist_npe)/30)\n",
    "\n",
    "my_pal = {\"NPE-RS (ours)\": \"C0\", \"RNPE\": \"green\", \"NPE\":\"orange\"}\n",
    "sns.boxplot(x=x, y=y, width=0.5, showfliers = False, palette=my_pal)\n",
    "# plt.title(\"RMSE between $\\\\theta_{true}$ and posterior of $\\\\theta$\")\n",
    "plt.ylabel(\"RMSE\" if p==2 else \"MAE\")\n",
    "plt.ylim(0, 5)\n",
    "plt.savefig(\"oup_0.2_rmse.pdf\", bbox_inches = 'tight', dpi = 300)\n",
    "plt.show()"
   ]
  }
 ],
 "metadata": {
  "kernelspec": {
   "display_name": "Python 3 (ipykernel)",
   "language": "python",
   "name": "python3"
  },
  "language_info": {
   "codemirror_mode": {
    "name": "ipython",
    "version": 3
   },
   "file_extension": ".py",
   "mimetype": "text/x-python",
   "name": "python",
   "nbconvert_exporter": "python",
   "pygments_lexer": "ipython3",
   "version": "3.9.12"
  }
 },
 "nbformat": 4,
 "nbformat_minor": 5
}
