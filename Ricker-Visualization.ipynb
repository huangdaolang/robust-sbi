{
 "cells": [
  {
   "cell_type": "code",
   "execution_count": 3,
   "id": "bc8b6bda",
   "metadata": {},
   "outputs": [
    {
     "name": "stdout",
     "output_type": "stream",
     "text": [
      "cpu\n"
     ]
    }
   ],
   "source": [
    "from inference.snpe.snpe_c import SNPE_C as SNPE\n",
    "from inference.base import *\n",
    "\n",
    "import utils as utils\n",
    "from utils.get_nn_models import *\n",
    "from utils.sbiutils import *\n",
    "from utils.torchutils import *\n",
    "import torch\n",
    "import numpy as np\n",
    "import matplotlib.pyplot as plt\n",
    "import matplotlib\n",
    "from torch import nn\n",
    "import seaborn as sns\n",
    "import random\n",
    "import pickle\n",
    "import io\n",
    "import utils.corruption as corruption\n",
    "import utils.metrics as metrics\n",
    "import copy\n",
    "from simulators.ricker import ricker\n",
    "from utils.corruption import magnitude_sigma\n",
    "from networks.summary_nets import RickerSummary\n",
    "\n",
    "device = torch.device(\"cuda:0\" if torch.cuda.is_available() else \"cpu\")\n",
    "print(device)"
   ]
  },
  {
   "cell_type": "code",
   "execution_count": 4,
   "id": "7281919f",
   "metadata": {},
   "outputs": [],
   "source": [
    "matplotlib.rcParams.update({\n",
    "    'font.family' : 'serif',\n",
    "    'font.size' : 12.0,\n",
    "    'lines.linewidth' : 2,\n",
    "    'lines.antialiased' : True,\n",
    "    'axes.facecolor': 'fdfdfd',\n",
    "    'axes.edgecolor': '777777',\n",
    "    'axes.linewidth' : 1,\n",
    "    'axes.titlesize' : 'medium',\n",
    "    'axes.labelsize' : 'medium',\n",
    "    'axes.axisbelow' : True,\n",
    "    'xtick.major.size'     : 0,      # major tick size in points\n",
    "    'xtick.minor.size'     : 0,      # minor tick size in points\n",
    "    'xtick.major.pad'      : 6,      # distance to major tick label in points\n",
    "    'xtick.minor.pad'      : 6,      # distance to the minor tick label in points\n",
    "    'xtick.color'          : '333333', # color of the tick labels\n",
    "    'xtick.labelsize'      : 'medium', # fontsize of the tick labels\n",
    "    'xtick.direction'      : 'in',     # direction: in or out\n",
    "    'ytick.major.size'     : 0,      # major tick size in points\n",
    "    'ytick.minor.size'     : 0,      # minor tick size in points\n",
    "    'ytick.major.pad'      : 6,      # distance to major tick label in points\n",
    "    'ytick.minor.pad'      : 6,      # distance to the minor tick label in points\n",
    "    'ytick.color'          : '333333', # color of the tick labels\n",
    "    'ytick.labelsize'      : 'medium', # fontsize of the tick labels\n",
    "    'ytick.direction'      : 'in',     # direction: in or out\n",
    "    'axes.grid' : False,\n",
    "    'grid.alpha' : 0.3,\n",
    "    'grid.linewidth' : 1,\n",
    "    'legend.fancybox' : True,\n",
    "    'legend.fontsize' : 'Small',\n",
    "    'figure.figsize' : (5, 4),\n",
    "    'figure.facecolor' : '1.0',\n",
    "    'figure.edgecolor' : '0.5',\n",
    "    'hatch.linewidth' : 0.1,\n",
    "    'text.usetex' : False\n",
    "    })\n",
    "\n",
    "color_map = {'green': '#009E60', 'orange': '#C04000',\n",
    "              'blue': 'C0', 'black':'#3A3B3C',\n",
    "              'purple': '#843B62', 'red': '#C41E3A'}"
   ]
  },
  {
   "cell_type": "code",
   "execution_count": 5,
   "id": "31a8750c",
   "metadata": {},
   "outputs": [],
   "source": [
    "class CPU_Unpickler(pickle.Unpickler):\n",
    "    def find_class(self, module, name):\n",
    "        if module == 'torch.storage' and name == '_load_from_bytes':\n",
    "            return lambda b: torch.load(io.BytesIO(b), map_location='cpu')\n",
    "        else: return super().find_class(module, name)\n",
    "\n",
    "        \n",
    "def load_models(root_name: str, device: torch.device):\n",
    "    sum_net = torch.load(f\"{root_name}/sum_net.pkl\", map_location=device)\n",
    "\n",
    "    density_estimator = torch.load(f\"{root_name}/density_estimator.pkl\", map_location=device)\n",
    "\n",
    "    with open(f\"{root_name}/posterior.pkl\", \"rb\") as handle:\n",
    "        posterior = CPU_Unpickler(handle).load() if device == torch.device('cpu') else pickle.load(handle)\n",
    "    \n",
    "    return sum_net, density_estimator, posterior\n",
    "\n",
    "\n",
    "def read_rnpe(model=\"ricker\", misspecified=0, seed=1, theta=[4,10]):\n",
    "    file = f\"seed={seed}_var={misspecified}_theta={theta}_{model}\"\n",
    "\n",
    "    results_dir = f\"objects/RNPE/{model}/\"\n",
    "    fn = f\"{results_dir}/{file}.pickle\"\n",
    "\n",
    "    with open(fn, \"rb\") as f:\n",
    "        results = pickle.load(f)\n",
    "\n",
    "    return np.array(results['posterior_samples']['RNPE'])\n",
    "\n",
    "\n",
    "def sample_posteriors(posterior, obs, num):\n",
    "    return posterior.sample((num,), x=obs.reshape(1, 1, 100, 100), show_progress_bars=False)"
   ]
  },
  {
   "cell_type": "code",
   "execution_count": 6,
   "id": "17334ee8",
   "metadata": {},
   "outputs": [],
   "source": [
    "def RMSE(gt, samples, p=1):\n",
    "    if p == 1:\n",
    "        dist = torch.mean(torch.abs(gt-samples))\n",
    "    elif p == 2:\n",
    "        dist = torch.sqrt(torch.mean((gt-samples)**2))\n",
    "    elif p == 3:\n",
    "        dist = torch.nn.functional.pairwise_distance(gt, samples, p=2).mean()\n",
    "    else:\n",
    "        dist = metrics.MMD_unweighted(samples, gt.reshape(-1, 2), lengthscale=metrics.median_heuristic(samples))\n",
    "    return dist"
   ]
  },
  {
   "cell_type": "code",
   "execution_count": 7,
   "id": "797f8061",
   "metadata": {},
   "outputs": [],
   "source": [
    "theta_gt = torch.tensor([4, 10])\n",
    "obs = ricker(theta_gt).to(device)\n",
    "\n",
    "x = torch.tensor(np.load(\"data/ricker_x_4000.npy\")).reshape(-1, 100, 100).to(device)\n",
    "theta = np.load(\"data/ricker_theta_4000.npy\")\n",
    "\n",
    "p = 2"
   ]
  },
  {
   "cell_type": "markdown",
   "id": "9fac0d5e",
   "metadata": {},
   "source": [
    "# var = 0"
   ]
  },
  {
   "cell_type": "code",
   "execution_count": 42,
   "id": "0ae10101",
   "metadata": {},
   "outputs": [
    {
     "name": "stdout",
     "output_type": "stream",
     "text": [
      "NPE-RS (ours):  1.8808283719420433\n",
      "RNPE:  3.3312210988998414\n",
      "NPE:  2.752283613681793\n"
     ]
    },
    {
     "data": {
      "image/png": "[encoded data removed]",
      "text/plain": [
       "<Figure size 360x288 with 1 Axes>"
      ]
     },
     "metadata": {},
     "output_type": "display_data"
    }
   ],
   "source": [
    "sigma = torch.tensor([0])\n",
    "# obs_cont = corruption.magnitude_sigma(obs, var=sigma).reshape(-1, 100, 100)\n",
    "obs_cont = torch.tensor(np.load(f\"data/ricker_obs_{int(sigma)}.npy\"))\n",
    "\n",
    "beta_list = [2.0]\n",
    "dist_ours = []\n",
    "dist_npe = []\n",
    "dist_rnpe = []\n",
    "for i in range(1, 51):\n",
    "    for beta in beta_list:\n",
    "        root_name = f\"objects/NPE/ricker/var=0.0_mmd_beta={beta}_theta=[4, 10]_num=1000/{i}\"\n",
    "        _, _, posterior_robust = load_models(root_name, device)\n",
    "        thetas_robust = sample_posteriors(posterior_robust, obs_cont, 1000)\n",
    "        dist_ours.append(float(RMSE(theta_gt, thetas_robust, p=p)))\n",
    "    \n",
    "    root_name = f\"objects/NPE/ricker/npe_num=1000_2/{i}\"\n",
    "    _, _, posterior_normal = load_models(root_name, device)\n",
    "    \n",
    "    thetas_npe = sample_posteriors(posterior_normal, obs_cont, 1000)\n",
    "    dist_npe.append(float(RMSE(theta_gt, thetas_npe, p=p)))\n",
    "    \n",
    "    thetas_rnpe = torch.tensor(read_rnpe(model=\"ricker\", misspecified=0, seed=i, theta='[4,10]'))[:1000]\n",
    "    dist_rnpe.append(float(RMSE(theta_gt, thetas_rnpe, p=p)))\n",
    "\n",
    "x = 50 * [\"NPE-RS (ours)\"] + 50 * [\"RNPE\"] + 50 * [\"NPE\"] \n",
    "y = np.array([dist_ours + dist_rnpe + dist_npe]).reshape(-1)\n",
    "\n",
    "print(\"NPE-RS (ours): \", sum(dist_ours)/50)\n",
    "print(\"RNPE: \", sum(dist_rnpe)/50)\n",
    "print(\"NPE: \", sum(dist_npe)/50)\n",
    "\n",
    "my_pal = {\"NPE-RS (ours)\": \"C0\", \"RNPE\": \"green\", \"NPE\":\"orange\"}\n",
    "sns.boxplot(x=x, y=y, width=0.5, showfliers = True, palette=my_pal)\n",
    "# plt.title(\"RMSE between $\\\\theta_\\mathrm{true}$ and posterior of $\\\\theta$\")\n",
    "plt.ylabel(\"RMSE\" if p==2 else \"MAE\")\n",
    "plt.ylim(0, 13)\n",
    "# plt.savefig(\"ricker_0_rmse.pdf\", bbox_inches = 'tight', dpi = 300)\n",
    "plt.show()"
   ]
  },
  {
   "cell_type": "markdown",
   "id": "17f2d41a",
   "metadata": {},
   "source": [
    "# var = 20"
   ]
  },
  {
   "cell_type": "code",
   "execution_count": 44,
   "id": "96894843",
   "metadata": {},
   "outputs": [
    {
     "name": "stdout",
     "output_type": "stream",
     "text": [
      "NPE-RS (ours):  3.0047827982902526\n",
      "RNPE:  4.263693156242371\n",
      "NPE:  6.627528104782105\n"
     ]
    },
    {
     "data": {
      "image/png": "[encoded data removed]",
      "text/plain": [
       "<Figure size 360x288 with 1 Axes>"
      ]
     },
     "metadata": {},
     "output_type": "display_data"
    }
   ],
   "source": [
    "sigma = torch.tensor([20])\n",
    "obs_cont = corruption.magnitude_sigma(obs, var=sigma).reshape(-1, 100, 100)\n",
    "\n",
    "beta_list = [2.0]\n",
    "dist_ours = []\n",
    "dist_npe = []\n",
    "dist_rnpe = []\n",
    "for i in range(1, 51):\n",
    "    for beta in beta_list:\n",
    "        root_name = f\"objects/NPE/ricker/var=20.0_mmd_beta={beta}_theta=[4, 10]_num=1000/{i}\"\n",
    "        _, _, posterior_robust = load_models(root_name, device)\n",
    "        thetas_robust = sample_posteriors(posterior_robust, obs_cont, 1000)\n",
    "        dist_ours.append(float(RMSE(theta_gt, thetas_robust, p=p)))\n",
    "    \n",
    "    root_name = f\"objects/NPE/ricker/npe_num=1000_2/{i}\"\n",
    "    _, _, posterior_normal = load_models(root_name, device)\n",
    "    \n",
    "    thetas_npe = sample_posteriors(posterior_normal, obs_cont, 1000)\n",
    "    dist_npe.append(float(RMSE(theta_gt, thetas_npe, p=p)))\n",
    "    \n",
    "    thetas_rnpe = torch.tensor(read_rnpe(model=\"ricker\", misspecified=20, seed=i, theta='[4,10]'))[:1000]\n",
    "    dist_rnpe.append(float(RMSE(theta_gt, thetas_rnpe, p=p)))\n",
    "\n",
    "x = 50 * [\"NPE-RS (ours)\"] + 50 * [\"RNPE\"] + 50 * [\"NPE\"] \n",
    "y = np.array([dist_ours + dist_rnpe + dist_npe]).reshape(-1)\n",
    "\n",
    "# print(\"beta = 1: \", sum(dist_ours[:30])/30)\n",
    "print(\"NPE-RS (ours): \", sum(dist_ours)/50)\n",
    "# print(\"beta = 3: \", sum(dist_ours[60:])/30)\n",
    "print(\"RNPE: \", sum(dist_rnpe)/50)\n",
    "print(\"NPE: \", sum(dist_npe)/50)\n",
    "\n",
    "my_pal = {\"NPE-RS (ours)\": \"C0\", \"RNPE\": \"green\", \"NPE\":\"orange\"}\n",
    "sns.boxplot(x=x, y=y, width=0.5, showfliers = False, palette=my_pal)\n",
    "# plt.title(\"RMSE between $\\\\theta_\\mathrm{true}$ and posterior of $\\\\theta$\")\n",
    "plt.ylabel(\"RMSE\" if p==2 else \"MAE\")\n",
    "plt.ylim(0, 13)\n",
    "# plt.savefig(\"ricker_20_rmse.pdf\", bbox_inches = 'tight', dpi = 300)\n",
    "plt.show()"
   ]
  },
  {
   "cell_type": "markdown",
   "id": "2242a089",
   "metadata": {},
   "source": [
    "# var = 40"
   ]
  },
  {
   "cell_type": "code",
   "execution_count": 8,
   "id": "ffbef532",
   "metadata": {},
   "outputs": [
    {
     "name": "stdout",
     "output_type": "stream",
     "text": [
      "NPE-RS (ours):  4.265003936290741\n",
      "RNPE:  5.217790489196777\n",
      "NPE:  9.864818544387818\n"
     ]
    },
    {
     "data": {
      "image/png": "[encoded data removed]",
      "text/plain": [
       "<Figure size 360x288 with 1 Axes>"
      ]
     },
     "metadata": {},
     "output_type": "display_data"
    }
   ],
   "source": [
    "sigma = torch.tensor([40])\n",
    "obs_cont = corruption.magnitude_sigma(obs, var=sigma).reshape(-1, 100, 100)\n",
    "\n",
    "beta_list = [2.0]\n",
    "dist_ours = []\n",
    "dist_npe = []\n",
    "dist_rnpe = []\n",
    "for i in range(1, 51):\n",
    "    for beta in beta_list:\n",
    "        root_name = f\"objects/NPE/ricker/var=40.0_mmd_beta={beta}_theta=[4, 10]_num=1000/{i}\"\n",
    "        _, _, posterior_robust = load_models(root_name, device)\n",
    "        thetas_robust = sample_posteriors(posterior_robust, obs_cont, 1000)\n",
    "        dist_ours.append(float(RMSE(theta_gt, thetas_robust, p=p)))\n",
    "    \n",
    "    root_name = f\"objects/NPE/ricker/npe_num=1000_2/{i}\"\n",
    "    _, _, posterior_normal = load_models(root_name, device)\n",
    "    \n",
    "    thetas_npe = sample_posteriors(posterior_normal, obs_cont, 1000)\n",
    "    dist_npe.append(float(RMSE(theta_gt, thetas_npe, p=p)))\n",
    "    \n",
    "    thetas_rnpe = torch.tensor(read_rnpe(model=\"ricker\", misspecified=40, seed=i, theta='[4,10]'))[:1000]\n",
    "    dist_rnpe.append(float(RMSE(theta_gt, thetas_rnpe, p=p)))\n",
    "\n",
    "x = 50 * [\"NPE-RS (ours)\"] + 50 * [\"RNPE\"] + 50 * [\"NPE\"] \n",
    "y = np.array([dist_ours + dist_rnpe + dist_npe]).reshape(-1)\n",
    "\n",
    "# print(\"beta = 1: \", sum(dist_ours[:30])/30)\n",
    "print(\"NPE-RS (ours): \", sum(dist_ours)/50)\n",
    "# print(\"beta = 3: \", sum(dist_ours[60:])/30)\n",
    "print(\"RNPE: \", sum(dist_rnpe)/50)\n",
    "print(\"NPE: \", sum(dist_npe)/50)\n",
    "\n",
    "my_pal = {\"NPE-RS (ours)\": \"C0\", \"RNPE\": \"green\", \"NPE\":\"orange\"}\n",
    "sns.boxplot(x=x, y=y, width=0.5, showfliers = False, palette=my_pal)\n",
    "# plt.title(\"RMSE between $\\\\theta_\\mathrm{true}$ and posterior of $\\\\theta$\")\n",
    "plt.ylabel(\"RMSE\" if p==2 else \"MAE\")\n",
    "plt.ylim(0, 15)\n",
    "# plt.savefig(\"ricker_40_rmse.pdf\", bbox_inches = 'tight', dpi = 300)\n",
    "plt.show()"
   ]
  },
  {
   "cell_type": "markdown",
   "id": "1cf233cf",
   "metadata": {},
   "source": [
    "# Beta analysis"
   ]
  },
  {
   "cell_type": "code",
   "execution_count": 39,
   "id": "39fa1dfc",
   "metadata": {},
   "outputs": [
    {
     "data": {
      "image/png": "[encoded data removed]",
      "text/plain": [
       "<Figure size 360x288 with 1 Axes>"
      ]
     },
     "metadata": {},
     "output_type": "display_data"
    }
   ],
   "source": [
    "sigma = torch.tensor([20])\n",
    "obs_cont = corruption.magnitude_sigma(obs, var=sigma).reshape(-1, 100, 100)\n",
    "\n",
    "prior_samples = torch.tensor(theta[:1000])\n",
    "\n",
    "betas = [0.01, 0.1, 1.0, 10.0, 100.0, 1000.0]\n",
    "# betas = [1.0, 2.0, 3.0, 5.0, 10.0, 100.0]\n",
    "mmd_prior = []\n",
    "mmd_npe = []\n",
    "for beta in betas:\n",
    "    for i in range(1, 31):\n",
    "        root_name = f\"objects/NPE/ricker/npe_num=1000_2/{i}\"\n",
    "        _, _, posterior_npe = load_models(root_name, device)\n",
    "        post_samples_npe = sample_posteriors(posterior_npe, obs_cont, 1000)\n",
    "\n",
    "        root_name = f\"objects/NPE/ricker/var=40.0_mmd_beta={beta}_theta=[4, 10]_num=1000/{i}\"\n",
    "        _, _, posterior_robust = load_models(root_name, device)\n",
    "        post_samples_robust = sample_posteriors(posterior_robust, obs_cont, 1000)\n",
    "        \n",
    "        mmd_npe.append(float(metrics.MMD_unweighted(post_samples_npe, post_samples_robust, lengthscale=metrics.median_heuristic(post_samples_npe))))\n",
    "        mmd_prior.append(float(metrics.MMD_unweighted(prior_samples, post_samples_robust, lengthscale=metrics.median_heuristic(prior_samples))))\n",
    "x = 30 * [\"0.01\"] + 30 * [\"0.1\"] + 30 * [\"1.0\"] + 30 * [\"10.0\"] + 30 * [\"100.0\"] + 30 * [\"1000.0\"]\n",
    "\n",
    "sns.boxplot(x=x, y=mmd_npe, showfliers = False)\n",
    "plt.ylabel(\"MMD\")\n",
    "plt.xlabel(\"$\\lambda$\")\n",
    "# plt.title(\"MMD between NPE posterior and ours\")\n",
    "# plt.savefig(\"lambda_check_npe.pdf\", bbox_inches = 'tight', dpi = 300)\n",
    "plt.show()\n"
   ]
  },
  {
   "cell_type": "code",
   "execution_count": 39,
   "id": "c525d857",
   "metadata": {},
   "outputs": [
    {
     "data": {
      "image/png": "[encoded data removed]",
      "text/plain": [
       "<Figure size 360x288 with 1 Axes>"
      ]
     },
     "metadata": {},
     "output_type": "display_data"
    }
   ],
   "source": [
    "sns.boxplot(x=x, y=mmd_prior, showfliers = False)\n",
    "plt.ylabel(\"MMD\")\n",
    "plt.xlabel(\"$\\lambda$\")\n",
    "# plt.title(\"MMD between prior and ours\")\n",
    "# plt.savefig(\"lambda_check_prior.pdf\", bbox_inches = 'tight', dpi = 300)\n",
    "plt.show()"
   ]
  },
  {
   "cell_type": "code",
   "execution_count": 38,
   "id": "111d2f12",
   "metadata": {},
   "outputs": [
    {
     "data": {
      "application/vnd.jupyter.widget-view+json": {
       "model_id": "5b7c237d0f8e496dac10c0c6c3ece870",
       "version_major": 2,
       "version_minor": 0
      },
      "text/plain": [
       "Drawing 10000 posterior samples:   0%|          | 0/10000 [00:00<?, ?it/s]"
      ]
     },
     "metadata": {},
     "output_type": "display_data"
    },
    {
     "data": {
      "application/vnd.jupyter.widget-view+json": {
       "model_id": "68cb1197fcdc4549a7c1b36e089e89c6",
       "version_major": 2,
       "version_minor": 0
      },
      "text/plain": [
       "Drawing 10000 posterior samples:   0%|          | 0/10000 [00:00<?, ?it/s]"
      ]
     },
     "metadata": {},
     "output_type": "display_data"
    },
    {
     "name": "stderr",
     "output_type": "stream",
     "text": [
      "/Users/huangd5/anaconda3/lib/python3.9/site-packages/seaborn/distributions.py:2619: FutureWarning: `distplot` is a deprecated function and will be removed in a future version. Please adapt your code to use either `displot` (a figure-level function with similar flexibility) or `histplot` (an axes-level function for histograms).\n",
      "  warnings.warn(msg, FutureWarning)\n"
     ]
    },
    {
     "data": {
      "image/png": "[encoded data removed]",
      "text/plain": [
       "<Figure size 864x288 with 2 Axes>"
      ]
     },
     "metadata": {},
     "output_type": "display_data"
    }
   ],
   "source": [
    "theta_gt = torch.tensor([4, 10])\n",
    "obs = ricker(theta_gt).to(device)\n",
    "sigma = torch.tensor([40])\n",
    "obs_cont = corruption.magnitude_sigma(obs, var=sigma).reshape(-1, 100, 100)\n",
    "\n",
    "root_name = \"objects/NPE/ricker/var=40.0_mmd_beta=0.01_theta=[4, 10]_num=1000/5\"\n",
    "sum_net_robust, density_estimator_robust, posterior_robust = load_models(root_name, device)\n",
    "\n",
    "root_name = \"objects/NPE/ricker/var=40.0_mmd_beta=1000.0_theta=[4, 10]_num=1000/8\"\n",
    "sum_net_normal, density_estimator_normal, posterior_normal = load_models(root_name, device)\n",
    "\n",
    "post_samples_normal_cont = posterior_normal.sample((10000,), x=obs_cont.reshape(1, 1, 100, 100))\n",
    "post_samples_robust_cont = posterior_robust.sample((10000,), x=obs_cont.reshape(1, 1, 100, 100))\n",
    "\n",
    "\n",
    "np.save(\"post_samples_beta1000.npy\", post_samples_normal_cont.detach().numpy())\n",
    "np.save(\"post_samples_beta0.01.npy\", post_samples_robust_cont.detach().numpy())\n",
    "\n",
    "\n",
    "plt.figure(figsize=(12,4))\n",
    "\n",
    "plt.subplot(1, 2, 1)\n",
    "plt.axvline(x=theta_gt[0],ls=\"-\",c=\"black\")\n",
    "sns.distplot(post_samples_normal_cont[:, 0].cpu().numpy(), color='blue', kde=False, norm_hist=True, label=\"normal\")\n",
    "sns.distplot(post_samples_robust_cont[:, 0].cpu().numpy(), color='red', kde=False, norm_hist=True, label=\"robust\")\n",
    "plt.legend()\n",
    "plt.xlim(0, 10)\n",
    "plt.title(\"Corrupted data - theta 1\")\n",
    "\n",
    "plt.subplot(1, 2, 2)\n",
    "plt.axvline(x=theta_gt[1],ls=\"-\",c=\"black\")\n",
    "sns.distplot(post_samples_normal_cont[:, 1].cpu().numpy(), color='blue', kde=False, norm_hist=True, label=\"normal\")\n",
    "sns.distplot(post_samples_robust_cont[:, 1].cpu().numpy(), color='red', kde=False, norm_hist=True, label=\"robust\")\n",
    "plt.legend()\n",
    "plt.xlim(0, 50)\n",
    "plt.title(\"Corrupted data - theta 2\")\n",
    "plt.show()\n"
   ]
  },
  {
   "cell_type": "code",
   "execution_count": 9,
   "id": "55a75060",
   "metadata": {},
   "outputs": [],
   "source": [
    "def temporalMomentsGeneral(Y, K=3, B=4e9):\n",
    "    N, Ns = Y.shape\n",
    "#     delta_f = B / (Ns-1)\n",
    "#     t_max = 1 / delta_f\n",
    "    tau = np.linspace(0, 100, Ns)\n",
    "    out = np.zeros((N, K))\n",
    "    Y = Y.detach().numpy()\n",
    "    for k in range(K):\n",
    "        for i in range(N):\n",
    "            out[i, k] = np.trapz(tau**(k) * Y[i], tau) + 1e-8\n",
    "    return np.log(out)"
   ]
  },
  {
   "cell_type": "code",
   "execution_count": 10,
   "id": "2ed1d6a6",
   "metadata": {},
   "outputs": [],
   "source": [
    "def ricker_1(theta):\n",
    "    logr = theta[0]\n",
    "    phi = theta[1]\n",
    "    sigma = 0.3\n",
    "\n",
    "    N0 = 1\n",
    "    T = 100\n",
    "    nSamples = 1\n",
    "\n",
    "    Y = torch.zeros(size=(nSamples, T))\n",
    "\n",
    "    for i in range(nSamples):\n",
    "        et = torch.randn(T, )\n",
    "        Nt = torch.zeros(size=(T + 1,))\n",
    "\n",
    "        Nt[0] = N0\n",
    "\n",
    "        for t in range(1, T + 1):\n",
    "            Nt[t] = torch.exp(logr + torch.log(Nt[t - 1]) - Nt[t - 1] + sigma * et[t - 1])\n",
    "            Y[i, t - 1] = torch.poisson(phi * Nt[t])\n",
    "\n",
    "    return Y"
   ]
  },
  {
   "cell_type": "code",
   "execution_count": 11,
   "id": "4addbf6c",
   "metadata": {},
   "outputs": [
    {
     "data": {
      "application/vnd.jupyter.widget-view+json": {
       "model_id": "3614e6a745fb4caa9bda48e67a4e97e3",
       "version_major": 2,
       "version_minor": 0
      },
      "text/plain": [
       "Drawing 1000 posterior samples:   0%|          | 0/1000 [00:00<?, ?it/s]"
      ]
     },
     "metadata": {},
     "output_type": "display_data"
    },
    {
     "data": {
      "application/vnd.jupyter.widget-view+json": {
       "model_id": "2ed7b0be4d5d46baa113ecae7a3ab4e8",
       "version_major": 2,
       "version_minor": 0
      },
      "text/plain": [
       "Drawing 1000 posterior samples:   0%|          | 0/1000 [00:00<?, ?it/s]"
      ]
     },
     "metadata": {},
     "output_type": "display_data"
    }
   ],
   "source": [
    "root_name = \"objects/NPE/ricker/var=40.0_mmd_beta=1.0_theta=[4, 10]_num=1000/6\"\n",
    "sum_net_robust, density_estimator_robust, posterior_robust = load_models(root_name, device)\n",
    "\n",
    "root_name = \"objects/NPE/ricker/npe_num=1000_2/4\"\n",
    "sum_net_normal, density_estimator_normal, posterior_normal = load_models(root_name, device)\n",
    "\n",
    "obs_cont = torch.tensor(np.load(\"data/ricker_obs_40.npy\"))\n",
    "obs_stat = torch.tensor(temporalMomentsGeneral(obs_cont.reshape(100, 100)))\n",
    "\n",
    "nb_samples = 1000\n",
    "post_samples_normal_cont = posterior_normal.sample((nb_samples,), x=obs_cont.reshape(1, 1, 100, 100))\n",
    "post_samples_robust_cont = posterior_robust.sample((nb_samples,), x=obs_cont.reshape(1, 1, 100, 100))\n"
   ]
  },
  {
   "cell_type": "code",
   "execution_count": 12,
   "id": "ccb89239",
   "metadata": {},
   "outputs": [],
   "source": [
    "predictive_data_normal = torch.zeros(nb_samples, 100)\n",
    "for i in range(nb_samples):\n",
    "    predictive_data_normal[i] = ricker_1(post_samples_normal_cont[i])[0]\n",
    "pred_stat_normal = torch.tensor(temporalMomentsGeneral(predictive_data_normal))\n",
    "\n",
    "predictive_data_robust = torch.zeros(nb_samples, 100)\n",
    "for i in range(nb_samples):\n",
    "    predictive_data_robust[i] = ricker_1(post_samples_robust_cont[i])[0]\n",
    "pred_stat_robust = torch.tensor(temporalMomentsGeneral(predictive_data_robust))"
   ]
  },
  {
   "cell_type": "code",
   "execution_count": 17,
   "id": "64281ee1",
   "metadata": {},
   "outputs": [
    {
     "name": "stdout",
     "output_type": "stream",
     "text": [
      "MMD with NPE:  0.12672201254826793\n"
     ]
    }
   ],
   "source": [
    "print(\"MMD with NPE: \", float(metrics.MMD_unweighted(pred_stat_normal, obs_stat, \n",
    "                             lengthscale=metrics.median_heuristic(obs_stat))))"
   ]
  },
  {
   "cell_type": "code",
   "execution_count": 18,
   "id": "c72cdd64",
   "metadata": {},
   "outputs": [
    {
     "name": "stdout",
     "output_type": "stream",
     "text": [
      "MMD with NPE-RS:  0.46409397887333276\n"
     ]
    }
   ],
   "source": [
    "print(\"MMD with NPE-RS: \", float(metrics.MMD_unweighted(pred_stat_robust, obs_stat, \n",
    "                             lengthscale=metrics.median_heuristic(obs_stat))))"
   ]
  },
  {
   "cell_type": "code",
   "execution_count": 21,
   "id": "1d882431",
   "metadata": {},
   "outputs": [],
   "source": [
    "nb_samples = 1000\n",
    "\n",
    "mmd_normal = 0.\n",
    "mmd_robust = 0.\n",
    "n_sim = 30\n",
    "for i in range(1, n_sim):\n",
    "    root_name = f\"objects/NPE/ricker/npe_num=1000_2/{i}\"\n",
    "    _, _, posterior_npe = load_models(root_name, device)\n",
    "    post_samples_npe = sample_posteriors(posterior_npe, obs_cont, nb_samples)\n",
    "\n",
    "    root_name = f\"objects/NPE/ricker/var=40.0_mmd_beta=2.0_theta=[4, 10]_num=1000/{i}\"\n",
    "    _, _, posterior_robust = load_models(root_name, device)\n",
    "    post_samples_robust = sample_posteriors(posterior_robust, obs_cont, nb_samples)\n",
    "    \n",
    "    predictive_data_normal = torch.zeros(nb_samples, 100)\n",
    "    for j in range(nb_samples):\n",
    "        predictive_data_normal[j] = ricker_1(post_samples_normal_cont[j])[0]\n",
    "    pred_stat_normal = torch.tensor(temporalMomentsGeneral(predictive_data_normal))\n",
    "    \n",
    "    predictive_data_robust = torch.zeros(nb_samples, 100)\n",
    "    for j in range(nb_samples):\n",
    "        predictive_data_robust[j] = ricker_1(post_samples_robust_cont[j])[0]\n",
    "    pred_stat_robust = torch.tensor(temporalMomentsGeneral(predictive_data_robust))\n",
    "    \n",
    "    mmd_normal += float(metrics.MMD_unweighted(pred_stat_normal, obs_stat, \n",
    "                             lengthscale=metrics.median_heuristic(obs_stat)))\n",
    "    \n",
    "    mmd_robust += float(metrics.MMD_unweighted(pred_stat_robust, obs_stat, \n",
    "                             lengthscale=metrics.median_heuristic(obs_stat)))"
   ]
  },
  {
   "cell_type": "code",
   "execution_count": 22,
   "id": "dbfd83ca",
   "metadata": {},
   "outputs": [
    {
     "name": "stdout",
     "output_type": "stream",
     "text": [
      "mmd normal: 0.1273268173648658\n",
      "mmd robust: 0.44933893929754404\n"
     ]
    }
   ],
   "source": [
    "print(f\"mmd normal: {mmd_normal/n_sim}\")\n",
    "print(f\"mmd robust: {mmd_robust/n_sim}\")"
   ]
  }
 ],
 "metadata": {
  "kernelspec": {
   "display_name": "Python 3 (ipykernel)",
   "language": "python",
   "name": "python3"
  },
  "language_info": {
   "codemirror_mode": {
    "name": "ipython",
    "version": 3
   },
   "file_extension": ".py",
   "mimetype": "text/x-python",
   "name": "python",
   "nbconvert_exporter": "python",
   "pygments_lexer": "ipython3",
   "version": "3.9.12"
  }
 },
 "nbformat": 4,
 "nbformat_minor": 5
}
