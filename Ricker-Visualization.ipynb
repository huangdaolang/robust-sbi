{
 "cells": [
  {
   "cell_type": "code",
   "execution_count": 1,
   "id": "bc8b6bda",
   "metadata": {},
   "outputs": [
    {
     "name": "stdout",
     "output_type": "stream",
     "text": [
      "cpu\n"
     ]
    }
   ],
   "source": [
    "from inference.snpe.snpe_c import SNPE_C as SNPE\n",
    "from inference.base import *\n",
    "\n",
    "import utils as utils\n",
    "from utils.get_nn_models import *\n",
    "from utils.sbiutils import *\n",
    "from utils.torchutils import *\n",
    "import torch\n",
    "import numpy as np\n",
    "import matplotlib.pyplot as plt\n",
    "import matplotlib\n",
    "from torch import nn\n",
    "import seaborn as sns\n",
    "import random\n",
    "import pickle\n",
    "import io\n",
    "import utils.corruption as corruption\n",
    "import utils.metrics as metrics\n",
    "import copy\n",
    "from simulators.ricker import ricker\n",
    "from utils.corruption import magnitude_sigma\n",
    "from networks.summary_nets import RickerSummary\n",
    "\n",
    "device = torch.device(\"cuda:0\" if torch.cuda.is_available() else \"cpu\")\n",
    "print(device)"
   ]
  },
  {
   "cell_type": "code",
   "execution_count": 2,
   "id": "7281919f",
   "metadata": {},
   "outputs": [],
   "source": [
    "matplotlib.rcParams.update({\n",
    "    'font.family' : 'serif',\n",
    "    'font.size' : 12.0,\n",
    "    'lines.linewidth' : 2,\n",
    "    'lines.antialiased' : True,\n",
    "    'axes.facecolor': 'fdfdfd',\n",
    "    'axes.edgecolor': '777777',\n",
    "    'axes.linewidth' : 1,\n",
    "    'axes.titlesize' : 'medium',\n",
    "    'axes.labelsize' : 'medium',\n",
    "    'axes.axisbelow' : True,\n",
    "    'xtick.major.size'     : 0,      # major tick size in points\n",
    "    'xtick.minor.size'     : 0,      # minor tick size in points\n",
    "    'xtick.major.pad'      : 6,      # distance to major tick label in points\n",
    "    'xtick.minor.pad'      : 6,      # distance to the minor tick label in points\n",
    "    'xtick.color'          : '333333', # color of the tick labels\n",
    "    'xtick.labelsize'      : 'medium', # fontsize of the tick labels\n",
    "    'xtick.direction'      : 'in',     # direction: in or out\n",
    "    'ytick.major.size'     : 0,      # major tick size in points\n",
    "    'ytick.minor.size'     : 0,      # minor tick size in points\n",
    "    'ytick.major.pad'      : 6,      # distance to major tick label in points\n",
    "    'ytick.minor.pad'      : 6,      # distance to the minor tick label in points\n",
    "    'ytick.color'          : '333333', # color of the tick labels\n",
    "    'ytick.labelsize'      : 'medium', # fontsize of the tick labels\n",
    "    'ytick.direction'      : 'in',     # direction: in or out\n",
    "    'axes.grid' : False,\n",
    "    'grid.alpha' : 0.3,\n",
    "    'grid.linewidth' : 1,\n",
    "    'legend.fancybox' : True,\n",
    "    'legend.fontsize' : 'Small',\n",
    "    'figure.figsize' : (5, 4),\n",
    "    'figure.facecolor' : '1.0',\n",
    "    'figure.edgecolor' : '0.5',\n",
    "    'hatch.linewidth' : 0.1,\n",
    "    'text.usetex' : False\n",
    "    })\n",
    "\n",
    "color_map = {'green': '#009E60', 'orange': '#C04000',\n",
    "              'blue': 'C0', 'black':'#3A3B3C',\n",
    "              'purple': '#843B62', 'red': '#C41E3A'}"
   ]
  },
  {
   "cell_type": "code",
   "execution_count": 3,
   "id": "31a8750c",
   "metadata": {},
   "outputs": [],
   "source": [
    "class CPU_Unpickler(pickle.Unpickler):\n",
    "    def find_class(self, module, name):\n",
    "        if module == 'torch.storage' and name == '_load_from_bytes':\n",
    "            return lambda b: torch.load(io.BytesIO(b), map_location='cpu')\n",
    "        else: return super().find_class(module, name)\n",
    "\n",
    "        \n",
    "def load_models(root_name: str, device: torch.device):\n",
    "    sum_net = torch.load(f\"{root_name}/sum_net.pkl\", map_location=device)\n",
    "\n",
    "    density_estimator = torch.load(f\"{root_name}/density_estimator.pkl\", map_location=device)\n",
    "\n",
    "    with open(f\"{root_name}/posterior.pkl\", \"rb\") as handle:\n",
    "        posterior = CPU_Unpickler(handle).load() if device == torch.device('cpu') else pickle.load(handle)\n",
    "    \n",
    "    return sum_net, density_estimator, posterior\n",
    "\n",
    "\n",
    "def read_rnpe(model=\"ricker\", misspecified=0, seed=1, theta=[4,10]):\n",
    "    file = f\"seed={seed}_var={misspecified}_theta={theta}_{model}\"\n",
    "\n",
    "    results_dir = f\"objects/rnpe/{model}/\"\n",
    "    fn = f\"{results_dir}/{file}.pickle\"\n",
    "\n",
    "    with open(fn, \"rb\") as f:\n",
    "        results = pickle.load(f)\n",
    "\n",
    "    return np.array(results['posterior_samples']['RNPE'])\n",
    "\n",
    "\n",
    "def sample_posteriors(posterior, obs, num):\n",
    "    return posterior.sample((num,), x=obs.reshape(1, 1, 100, 100), show_progress_bars=False)"
   ]
  },
  {
   "cell_type": "code",
   "execution_count": 4,
   "id": "17334ee8",
   "metadata": {},
   "outputs": [],
   "source": [
    "def RMSE(gt, samples, p=1):\n",
    "    if p == 1:\n",
    "        dist = torch.mean(torch.abs(gt-samples))\n",
    "    elif p == 2:\n",
    "        dist = torch.sqrt(torch.mean((gt-samples)**2))\n",
    "    elif p == 3:\n",
    "        dist = torch.nn.functional.pairwise_distance(gt, samples, p=2).mean()\n",
    "    else:\n",
    "        dist = metrics.MMD_unweighted(samples, gt.reshape(-1, 2), lengthscale=metrics.median_heuristic(samples))\n",
    "    return dist"
   ]
  },
  {
   "cell_type": "code",
   "execution_count": 5,
   "id": "797f8061",
   "metadata": {},
   "outputs": [],
   "source": [
    "theta_gt = torch.tensor([4, 10])\n",
    "obs = ricker(theta_gt).to(device)\n",
    "\n",
    "x = torch.tensor(np.load(\"data/ricker_x_4000.npy\")).reshape(-1, 100, 100).to(device)\n",
    "theta = np.load(\"data/ricker_theta_4000.npy\")\n",
    "\n",
    "p = 2"
   ]
  },
  {
   "cell_type": "markdown",
   "id": "9fac0d5e",
   "metadata": {},
   "source": [
    "# var = 0"
   ]
  },
  {
   "cell_type": "code",
   "execution_count": 25,
   "id": "0ae10101",
   "metadata": {},
   "outputs": [
    {
     "name": "stdout",
     "output_type": "stream",
     "text": [
      "NPE-RS (ours):  1.9359919607639313\n",
      "RNPE:  3.17205712000529\n",
      "NPE:  2.2989792828758557\n"
     ]
    },
    {
     "data": {
      "image/png": "[encoded data removed]",
      "text/plain": [
       "<Figure size 360x288 with 1 Axes>"
      ]
     },
     "metadata": {},
     "output_type": "display_data"
    }
   ],
   "source": [
    "sigma = torch.tensor([0])\n",
    "obs_cont = corruption.magnitude_sigma(obs, var=sigma).reshape(-1, 100, 100)\n",
    "\n",
    "beta_list = [2.0]\n",
    "dist_ours = []\n",
    "dist_npe = []\n",
    "dist_rnpe = []\n",
    "for i in range(1, 31):\n",
    "    for beta in beta_list:\n",
    "        root_name = f\"objects/ricker/var=0.0_mmd_beta={beta}_theta=[4, 10]_num=1000/{i}\"\n",
    "        _, _, posterior_robust = load_models(root_name, device)\n",
    "        thetas_robust = sample_posteriors(posterior_robust, obs_cont, 1000)\n",
    "        dist_ours.append(float(RMSE(theta_gt, thetas_robust, p=p)))\n",
    "    \n",
    "    root_name = f\"objects/ricker/npe_num=1000/{i}\"\n",
    "    _, _, posterior_normal = load_models(root_name, device)\n",
    "    \n",
    "    thetas_npe = sample_posteriors(posterior_normal, obs_cont, 1000)\n",
    "    dist_npe.append(float(RMSE(theta_gt, thetas_npe, p=p)))\n",
    "    \n",
    "    thetas_rnpe = torch.tensor(read_rnpe(model=\"ricker\", misspecified=0, seed=i, theta='[4,10]'))[:1000]\n",
    "    dist_rnpe.append(float(RMSE(theta_gt, thetas_rnpe, p=p)))\n",
    "\n",
    "x = 30 * [\"NPE-RS (ours)\"] + 30 * [\"RNPE\"] + 30 * [\"NPE\"] \n",
    "y = np.array([dist_ours + dist_rnpe + dist_npe]).reshape(-1)\n",
    "\n",
    "# print(\"beta = 1: \", sum(dist_ours[:30])/30)\n",
    "print(\"NPE-RS (ours): \", sum(dist_ours)/30)\n",
    "# print(\"beta = 3: \", sum(dist_ours[60:])/30)\n",
    "print(\"RNPE: \", sum(dist_rnpe)/30)\n",
    "print(\"NPE: \", sum(dist_npe)/30)\n",
    "\n",
    "my_pal = {\"NPE-RS (ours)\": \"C0\", \"RNPE\": \"green\", \"NPE\":\"orange\"}\n",
    "sns.boxplot(x=x, y=y, width=0.5, showfliers = False, palette=my_pal)\n",
    "# plt.title(\"RMSE between $\\\\theta_\\mathrm{true}$ and posterior of $\\\\theta$\")\n",
    "plt.ylabel(\"RMSE\" if p==2 else \"MAE\")\n",
    "plt.ylim(0, 13)\n",
    "plt.savefig(\"ricker_0_rmse.pdf\", bbox_inches = 'tight', dpi = 300)\n",
    "plt.show()"
   ]
  },
  {
   "cell_type": "markdown",
   "id": "17f2d41a",
   "metadata": {},
   "source": [
    "# var = 20"
   ]
  },
  {
   "cell_type": "code",
   "execution_count": 22,
   "id": "96894843",
   "metadata": {},
   "outputs": [
    {
     "name": "stdout",
     "output_type": "stream",
     "text": [
      "NPE-RS (ours):  3.2402535378932953\n",
      "RNPE:  4.278075313568115\n",
      "NPE:  6.347694667180379\n"
     ]
    },
    {
     "data": {
      "image/png": "[encoded data removed]",
      "text/plain": [
       "<Figure size 360x288 with 1 Axes>"
      ]
     },
     "metadata": {},
     "output_type": "display_data"
    }
   ],
   "source": [
    "sigma = torch.tensor([20])\n",
    "obs_cont = corruption.magnitude_sigma(obs, var=sigma).reshape(-1, 100, 100)\n",
    "\n",
    "beta_list = [2.0]\n",
    "dist_ours = []\n",
    "dist_npe = []\n",
    "dist_rnpe = []\n",
    "for i in range(1, 31):\n",
    "    for beta in beta_list:\n",
    "        root_name = f\"objects/ricker/var=20.0_mmd_beta={beta}_theta=[4, 10]_num=1000/{i}\"\n",
    "        _, _, posterior_robust = load_models(root_name, device)\n",
    "        thetas_robust = sample_posteriors(posterior_robust, obs_cont, 1000)\n",
    "        dist_ours.append(float(RMSE(theta_gt, thetas_robust, p=p)))\n",
    "    \n",
    "    root_name = f\"objects/ricker/npe_num=1000/{i}\"\n",
    "    _, _, posterior_normal = load_models(root_name, device)\n",
    "    \n",
    "    thetas_npe = sample_posteriors(posterior_normal, obs_cont, 1000)\n",
    "    dist_npe.append(float(RMSE(theta_gt, thetas_npe, p=p)))\n",
    "    \n",
    "    thetas_rnpe = torch.tensor(read_rnpe(model=\"ricker\", misspecified=20, seed=i, theta='[4,10]'))[:1000]\n",
    "    dist_rnpe.append(float(RMSE(theta_gt, thetas_rnpe, p=p)))\n",
    "\n",
    "x = 30 * [\"NPE-RS (ours)\"] + 30 * [\"RNPE\"] + 30 * [\"NPE\"] \n",
    "y = np.array([dist_ours + dist_rnpe + dist_npe]).reshape(-1)\n",
    "\n",
    "# print(\"beta = 1: \", sum(dist_ours[:30])/30)\n",
    "print(\"NPE-RS (ours): \", sum(dist_ours)/30)\n",
    "# print(\"beta = 3: \", sum(dist_ours[60:])/30)\n",
    "print(\"RNPE: \", sum(dist_rnpe)/30)\n",
    "print(\"NPE: \", sum(dist_npe)/30)\n",
    "\n",
    "my_pal = {\"NPE-RS (ours)\": \"C0\", \"RNPE\": \"green\", \"NPE\":\"orange\"}\n",
    "sns.boxplot(x=x, y=y, width=0.5, showfliers = False, palette=my_pal)\n",
    "# plt.title(\"RMSE between $\\\\theta_\\mathrm{true}$ and posterior of $\\\\theta$\")\n",
    "plt.ylabel(\"RMSE\" if p==2 else \"MAE\")\n",
    "plt.ylim(0, 13)\n",
    "plt.savefig(\"ricker_20_rmse.pdf\", bbox_inches = 'tight', dpi = 300)\n",
    "plt.show()"
   ]
  },
  {
   "cell_type": "markdown",
   "id": "2242a089",
   "metadata": {},
   "source": [
    "# var = 40"
   ]
  },
  {
   "cell_type": "code",
   "execution_count": 23,
   "id": "ffbef532",
   "metadata": {},
   "outputs": [
    {
     "name": "stdout",
     "output_type": "stream",
     "text": [
      "NPE-RS (ours):  4.377421919504801\n",
      "RNPE:  5.338454612096151\n",
      "NPE:  9.817392603556316\n"
     ]
    },
    {
     "data": {
      "image/png": "[encoded data removed]",
      "text/plain": [
       "<Figure size 360x288 with 1 Axes>"
      ]
     },
     "metadata": {},
     "output_type": "display_data"
    }
   ],
   "source": [
    "sigma = torch.tensor([40])\n",
    "obs_cont = corruption.magnitude_sigma(obs, var=sigma).reshape(-1, 100, 100)\n",
    "\n",
    "beta_list = [2.0]\n",
    "dist_ours = []\n",
    "dist_npe = []\n",
    "dist_rnpe = []\n",
    "for i in range(1, 31):\n",
    "    for beta in beta_list:\n",
    "        root_name = f\"objects/ricker/var=40.0_mmd_beta={beta}_theta=[4, 10]_num=1000/{i}\"\n",
    "        _, _, posterior_robust = load_models(root_name, device)\n",
    "        thetas_robust = sample_posteriors(posterior_robust, obs_cont, 1000)\n",
    "        dist_ours.append(float(RMSE(theta_gt, thetas_robust, p=p)))\n",
    "    \n",
    "    root_name = f\"objects/ricker/npe_num=1000/{i}\"\n",
    "    _, _, posterior_normal = load_models(root_name, device)\n",
    "    \n",
    "    thetas_npe = sample_posteriors(posterior_normal, obs_cont, 1000)\n",
    "    dist_npe.append(float(RMSE(theta_gt, thetas_npe, p=p)))\n",
    "    \n",
    "    thetas_rnpe = torch.tensor(read_rnpe(model=\"ricker\", misspecified=40, seed=i, theta='[4,10]'))[:1000]\n",
    "    dist_rnpe.append(float(RMSE(theta_gt, thetas_rnpe, p=p)))\n",
    "\n",
    "x = 30 * [\"NPE-RS (ours)\"] + 30 * [\"RNPE\"] + 30 * [\"NPE\"] \n",
    "y = np.array([dist_ours + dist_rnpe + dist_npe]).reshape(-1)\n",
    "\n",
    "# print(\"beta = 1: \", sum(dist_ours[:30])/30)\n",
    "print(\"NPE-RS (ours): \", sum(dist_ours)/30)\n",
    "# print(\"beta = 3: \", sum(dist_ours[60:])/30)\n",
    "print(\"RNPE: \", sum(dist_rnpe)/30)\n",
    "print(\"NPE: \", sum(dist_npe)/30)\n",
    "\n",
    "my_pal = {\"NPE-RS (ours)\": \"C0\", \"RNPE\": \"green\", \"NPE\":\"orange\"}\n",
    "sns.boxplot(x=x, y=y, width=0.5, showfliers = False, palette=my_pal)\n",
    "# plt.title(\"RMSE between $\\\\theta_\\mathrm{true}$ and posterior of $\\\\theta$\")\n",
    "plt.ylabel(\"RMSE\" if p==2 else \"MAE\")\n",
    "plt.ylim(0, 13)\n",
    "plt.savefig(\"ricker_40_rmse.pdf\", bbox_inches = 'tight', dpi = 300)\n",
    "plt.show()"
   ]
  },
  {
   "cell_type": "markdown",
   "id": "1cf233cf",
   "metadata": {},
   "source": [
    "# Beta analysis"
   ]
  },
  {
   "cell_type": "code",
   "execution_count": 38,
   "id": "39fa1dfc",
   "metadata": {},
   "outputs": [
    {
     "data": {
      "image/png": "[encoded data removed]",
      "text/plain": [
       "<Figure size 360x288 with 1 Axes>"
      ]
     },
     "metadata": {},
     "output_type": "display_data"
    }
   ],
   "source": [
    "sigma = torch.tensor([20])\n",
    "obs_cont = corruption.magnitude_sigma(obs, var=sigma).reshape(-1, 100, 100)\n",
    "\n",
    "prior_samples = torch.tensor(theta[:1000])\n",
    "\n",
    "betas = [0.01, 0.1, 1.0, 10.0, 100.0, 1000.0]\n",
    "# betas = [1.0, 2.0, 3.0, 5.0, 10.0, 100.0]\n",
    "mmd_prior = []\n",
    "mmd_npe = []\n",
    "for beta in betas:\n",
    "    for i in range(1, 31):\n",
    "        root_name = f\"objects/ricker/npe_num=1000/{i}\"\n",
    "        _, _, posterior_npe = load_models(root_name, device)\n",
    "        post_samples_npe = sample_posteriors(posterior_npe, obs_cont, 1000)\n",
    "\n",
    "        root_name = f\"objects/ricker/var=40.0_mmd_beta={beta}_theta=[4, 10]_num=1000/{i}\"\n",
    "        _, _, posterior_robust = load_models(root_name, device)\n",
    "        post_samples_robust = sample_posteriors(posterior_robust, obs_cont, 1000)\n",
    "        \n",
    "        mmd_npe.append(float(metrics.MMD_unweighted(post_samples_npe, post_samples_robust, lengthscale=metrics.median_heuristic(post_samples_npe))))\n",
    "        mmd_prior.append(float(metrics.MMD_unweighted(prior_samples, post_samples_robust, lengthscale=metrics.median_heuristic(prior_samples))))\n",
    "x = 30 * [\"0.01\"] + 30 * [\"0.1\"] + 30 * [\"1.0\"] + 30 * [\"10.0\"] + 30 * [\"100.0\"] + 30 * [\"1000.0\"]\n",
    "\n",
    "sns.boxplot(x=x, y=mmd_npe, showfliers = False)\n",
    "plt.ylabel(\"MMD\")\n",
    "plt.xlabel(\"$\\lambda$\")\n",
    "# plt.title(\"MMD between NPE posterior and ours\")\n",
    "plt.savefig(\"lambda_check_npe.pdf\", bbox_inches = 'tight', dpi = 300)\n",
    "plt.show()\n"
   ]
  },
  {
   "cell_type": "code",
   "execution_count": 39,
   "id": "c525d857",
   "metadata": {},
   "outputs": [
    {
     "data": {
      "image/png": "[encoded data removed]",
      "text/plain": [
       "<Figure size 360x288 with 1 Axes>"
      ]
     },
     "metadata": {},
     "output_type": "display_data"
    }
   ],
   "source": [
    "sns.boxplot(x=x, y=mmd_prior, showfliers = False)\n",
    "plt.ylabel(\"MMD\")\n",
    "plt.xlabel(\"$\\lambda$\")\n",
    "# plt.title(\"MMD between prior and ours\")\n",
    "plt.savefig(\"lambda_check_prior.pdf\", bbox_inches = 'tight', dpi = 300)\n",
    "plt.show()"
   ]
  },
  {
   "cell_type": "code",
   "execution_count": 15,
   "id": "111d2f12",
   "metadata": {},
   "outputs": [
    {
     "data": {
      "application/vnd.jupyter.widget-view+json": {
       "model_id": "c99c9542de2f492fbebc6c92036d07ca",
       "version_major": 2,
       "version_minor": 0
      },
      "text/plain": [
       "Drawing 10000 posterior samples:   0%|          | 0/10000 [00:00<?, ?it/s]"
      ]
     },
     "metadata": {},
     "output_type": "display_data"
    },
    {
     "data": {
      "application/vnd.jupyter.widget-view+json": {
       "model_id": "603301dc7ea7416aac3fceb516bd8020",
       "version_major": 2,
       "version_minor": 0
      },
      "text/plain": [
       "Drawing 10000 posterior samples:   0%|          | 0/10000 [00:00<?, ?it/s]"
      ]
     },
     "metadata": {},
     "output_type": "display_data"
    },
    {
     "data": {
      "image/png": "[encoded data removed]",
      "text/plain": [
       "<Figure size 864x288 with 2 Axes>"
      ]
     },
     "metadata": {},
     "output_type": "display_data"
    }
   ],
   "source": [
    "theta_gt = torch.tensor([4, 10])\n",
    "obs = ricker(theta_gt).to(device)\n",
    "sigma = torch.tensor([40])\n",
    "obs_cont = corruption.magnitude_sigma(obs, var=sigma).reshape(-1, 100, 100)\n",
    "\n",
    "root_name = \"objects/ricker/var=40.0_mmd_beta=0.01_theta=[4, 10]_num=1000/5\"\n",
    "sum_net_robust, density_estimator_robust, posterior_robust = load_models(root_name, device)\n",
    "\n",
    "root_name = \"objects/ricker/var=40.0_mmd_beta=1000.0_theta=[4, 10]_num=1000/8\"\n",
    "sum_net_normal, density_estimator_normal, posterior_normal = load_models(root_name, device)\n",
    "\n",
    "post_samples_normal_cont = posterior_normal.sample((10000,), x=obs_cont.reshape(1, 1, 100, 100))\n",
    "post_samples_robust_cont = posterior_robust.sample((10000,), x=obs_cont.reshape(1, 1, 100, 100))\n",
    "\n",
    "\n",
    "np.save(\"post_samples_beta1000.npy\", post_samples_normal_cont.detach().numpy())\n",
    "np.save(\"post_samples_beta0.01.npy\", post_samples_robust_cont.detach().numpy())\n",
    "\n",
    "\n",
    "plt.figure(figsize=(12,4))\n",
    "\n",
    "plt.subplot(1, 2, 1)\n",
    "plt.axvline(x=theta_gt[0],ls=\"-\",c=\"black\")\n",
    "sns.distplot(post_samples_normal_cont[:, 0].cpu().numpy(), color='blue', kde=False, norm_hist=True, label=\"normal\")\n",
    "sns.distplot(post_samples_robust_cont[:, 0].cpu().numpy(), color='red', kde=False, norm_hist=True, label=\"robust\")\n",
    "plt.legend()\n",
    "plt.xlim(0, 10)\n",
    "plt.title(\"Corrupted data - theta 1\")\n",
    "\n",
    "plt.subplot(1, 2, 2)\n",
    "plt.axvline(x=theta_gt[1],ls=\"-\",c=\"black\")\n",
    "sns.distplot(post_samples_normal_cont[:, 1].cpu().numpy(), color='blue', kde=False, norm_hist=True, label=\"normal\")\n",
    "sns.distplot(post_samples_robust_cont[:, 1].cpu().numpy(), color='red', kde=False, norm_hist=True, label=\"robust\")\n",
    "plt.legend()\n",
    "plt.xlim(0, 50)\n",
    "plt.title(\"Corrupted data - theta 2\")\n",
    "plt.show()\n"
   ]
  }
 ],
 "metadata": {
  "kernelspec": {
   "display_name": "Python 3 (ipykernel)",
   "language": "python",
   "name": "python3"
  },
  "language_info": {
   "codemirror_mode": {
    "name": "ipython",
    "version": 3
   },
   "file_extension": ".py",
   "mimetype": "text/x-python",
   "name": "python",
   "nbconvert_exporter": "python",
   "pygments_lexer": "ipython3",
   "version": "3.9.12"
  }
 },
 "nbformat": 4,
 "nbformat_minor": 5
}
